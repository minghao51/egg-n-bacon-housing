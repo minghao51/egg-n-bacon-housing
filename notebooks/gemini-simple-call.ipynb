{
 "cells": [
  {
   "cell_type": "code",
   "execution_count": 1,
   "metadata": {},
   "outputs": [],
   "source": [
    "# testing gemini api call with image and text"
   ]
  },
  {
   "cell_type": "code",
   "execution_count": 9,
   "metadata": {},
   "outputs": [
    {
     "name": "stdout",
     "output_type": "stream",
     "text": [
      "{'prompt_kwargs': {'name': 'Edwin'}}\n",
      "Hello! It seems you're addressing me as Edwin. I'm not Edwin, but I'm happy to help. What can I do for you today? \n",
      "\n"
     ]
    }
   ],
   "source": [
    "from langchain_google_genai import GoogleGenerativeAI\n",
    "from langchain_core.prompts import PromptTemplate\n",
    "import os\n",
    "os.environ['GOOGLE_API_KEY'] = ''\n",
    "\n",
    "class LLM:\n",
    "\n",
    "    llm_source = {'google': GoogleGenerativeAI}\n",
    "\n",
    "    def __init__(self, \n",
    "                 model_name,\n",
    "                 llm_provider\n",
    "                 ):\n",
    "        self.model_name = model_name #'gemini-1.5.flash'\n",
    "        self.llm_provider = llm_provider #'google'\n",
    "        self.llm = self.create_llm()\n",
    "\n",
    "\n",
    "    def get_prompt_template(self, prompt_name):\n",
    "        prompt_templates = {'hello':'hello {name}!'}\n",
    "        prompt_template = PromptTemplate.from_template(prompt_templates[prompt_name])\n",
    "\n",
    "        return prompt_template\n",
    "    \n",
    "    def create_llm(self):\n",
    "        llm =  self.llm_source[self.llm_provider](model = self.model_name)\n",
    "        \n",
    "        return llm\n",
    "\n",
    "\n",
    "    def invoke(self, prompt_name, **prompt_kwargs):\n",
    "\n",
    "        prompt_template = self.get_prompt_template(prompt_name)\n",
    "        chain = prompt_template | self.llm\n",
    "        response = chain.invoke(input = prompt_kwargs['prompt_kwargs'])        \n",
    "\n",
    "        return response\n",
    "    \n",
    "if __name__ == '__main__':\n",
    "\n",
    "    llm = LLM(model_name = 'gemini-1.5-flash',\n",
    "              llm_provider='google'\n",
    "                )\n",
    "    \n",
    "    response = llm.invoke(prompt_name='hello', prompt_kwargs={'name':'Edwin'})\n",
    "    print (response)\n",
    "\n",
    "    \n",
    "                "
   ]
  },
  {
   "cell_type": "code",
   "execution_count": 5,
   "metadata": {},
   "outputs": [],
   "source": []
  }
 ],
 "metadata": {
  "kernelspec": {
   "display_name": "demo",
   "language": "python",
   "name": "python3"
  },
  "language_info": {
   "codemirror_mode": {
    "name": "ipython",
    "version": 3
   },
   "file_extension": ".py",
   "mimetype": "text/x-python",
   "name": "python",
   "nbconvert_exporter": "python",
   "pygments_lexer": "ipython3",
   "version": "3.11.10"
  }
 },
 "nbformat": 4,
 "nbformat_minor": 2
}
