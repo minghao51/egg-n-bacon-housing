{
 "cells": [
  {
   "cell_type": "code",
   "execution_count": 1,
   "metadata": {},
   "outputs": [],
   "source": [
    "import requests\n",
    "import pandas as pd\n",
    "import numpy as np\n",
    "# import polars as pl\n",
    "import json\n",
    "import re"
   ]
  },
  {
   "cell_type": "markdown",
   "metadata": {},
   "source": [
    "# Custom scripts\n",
    "- scripts to retrive additional page with consideration for total records"
   ]
  },
  {
   "cell_type": "code",
   "execution_count": 10,
   "metadata": {},
   "outputs": [],
   "source": [
    "def fetch_data(url: str, dataset_id: str) -> pd.DataFrame:\n",
    "    \"\"\"\n",
    "    Fetches data from the Data.gov.sg API and returns a concatenated DataFrame.\n",
    "\n",
    "    Args:\n",
    "        url (str): The base URL for the API request.\n",
    "        dataset_id (str): The ID of the dataset to fetch.\n",
    "\n",
    "    Returns:\n",
    "        pd.DataFrame: A concatenated DataFrame containing the fetched data.\n",
    "    \"\"\"\n",
    "    _response_agg = []  # Initialize an empty list to store the DataFrames\n",
    "    offset_value = 0  # Initialize the offset value\n",
    "    total_records = 0  # Initialize the total records count\n",
    "\n",
    "    while True:\n",
    "        try:\n",
    "            # Send a GET request to the API\n",
    "            response = requests.get(url+dataset_id)\n",
    "            response_text = json.loads(response.text)\n",
    "\n",
    "            # Append the fetched data to the list\n",
    "            _response_agg.append(pd.DataFrame.from_dict(response_text['result']['records']))\n",
    "\n",
    "            # Check if there's a next page\n",
    "            if 'next' not in response_text['result']['_links'].keys():\n",
    "                break\n",
    "\n",
    "            # Update the URL for the next page\n",
    "            url = 'https://data.gov.sg' + response_text['result']['_links']['next']\n",
    "\n",
    "            # Update the offset value and total records count\n",
    "            match = re.search(r'offset=(\\d+)', url)\n",
    "            offset_value = int(match.group(1))\n",
    "            total_records = response_text['result']['total']\n",
    "            # print(total_records)\n",
    "\n",
    "            # Break if the offset value exceeds the total records count\n",
    "            if offset_value > total_records:\n",
    "                break\n",
    "        except Exception as e:\n",
    "            print(f\"Error: {e}\")\n",
    "            break\n",
    "\n",
    "    # Concatenate the DataFrames\n",
    "    df = pd.concat(_response_agg, ignore_index=True)\n",
    "\n",
    "    return df"
   ]
  },
  {
   "cell_type": "markdown",
   "metadata": {},
   "source": [
    "# Data Gov Sg data"
   ]
  },
  {
   "cell_type": "markdown",
   "metadata": {},
   "source": [
    "## Private Residential Property Transactions in Rest of Central Region, Quarterly\n",
    "### New Launch/Resale/SubSale Counts\n",
    "- https://data.gov.sg/datasets/d_5785799d63a9da091f4e0b456291eeb8/view"
   ]
  },
  {
   "cell_type": "code",
   "execution_count": 11,
   "metadata": {},
   "outputs": [],
   "source": [
    "property_transasctions = fetch_data(\n",
    "    url=\"https://data.gov.sg/api/action/datastore_search?resource_id=\",\n",
    "    dataset_id=\"d_5785799d63a9da091f4e0b456291eeb8\"\n",
    "    )"
   ]
  },
  {
   "cell_type": "code",
   "execution_count": 12,
   "metadata": {},
   "outputs": [
    {
     "data": {
      "text/html": [
       "<div>\n",
       "<style scoped>\n",
       "    .dataframe tbody tr th:only-of-type {\n",
       "        vertical-align: middle;\n",
       "    }\n",
       "\n",
       "    .dataframe tbody tr th {\n",
       "        vertical-align: top;\n",
       "    }\n",
       "\n",
       "    .dataframe thead th {\n",
       "        text-align: right;\n",
       "    }\n",
       "</style>\n",
       "<table border=\"1\" class=\"dataframe\">\n",
       "  <thead>\n",
       "    <tr style=\"text-align: right;\">\n",
       "      <th></th>\n",
       "      <th>_id</th>\n",
       "      <th>quarter</th>\n",
       "      <th>type_of_sale</th>\n",
       "      <th>sale_status</th>\n",
       "      <th>units</th>\n",
       "    </tr>\n",
       "  </thead>\n",
       "  <tbody>\n",
       "    <tr>\n",
       "      <th>0</th>\n",
       "      <td>1</td>\n",
       "      <td>2004-Q1</td>\n",
       "      <td>New Sale</td>\n",
       "      <td>Completed</td>\n",
       "      <td>128</td>\n",
       "    </tr>\n",
       "    <tr>\n",
       "      <th>1</th>\n",
       "      <td>2</td>\n",
       "      <td>2004-Q1</td>\n",
       "      <td>New Sale</td>\n",
       "      <td>Uncompleted</td>\n",
       "      <td>399</td>\n",
       "    </tr>\n",
       "    <tr>\n",
       "      <th>2</th>\n",
       "      <td>3</td>\n",
       "      <td>2004-Q1</td>\n",
       "      <td>Resale</td>\n",
       "      <td>na</td>\n",
       "      <td>359</td>\n",
       "    </tr>\n",
       "    <tr>\n",
       "      <th>3</th>\n",
       "      <td>4</td>\n",
       "      <td>2004-Q1</td>\n",
       "      <td>Sub Sale</td>\n",
       "      <td>na</td>\n",
       "      <td>16</td>\n",
       "    </tr>\n",
       "    <tr>\n",
       "      <th>4</th>\n",
       "      <td>5</td>\n",
       "      <td>2004-Q2</td>\n",
       "      <td>New Sale</td>\n",
       "      <td>Completed</td>\n",
       "      <td>128</td>\n",
       "    </tr>\n",
       "    <tr>\n",
       "      <th>...</th>\n",
       "      <td>...</td>\n",
       "      <td>...</td>\n",
       "      <td>...</td>\n",
       "      <td>...</td>\n",
       "      <td>...</td>\n",
       "    </tr>\n",
       "    <tr>\n",
       "      <th>323</th>\n",
       "      <td>324</td>\n",
       "      <td>2024-Q1</td>\n",
       "      <td>Sub Sale</td>\n",
       "      <td>na</td>\n",
       "      <td>137</td>\n",
       "    </tr>\n",
       "    <tr>\n",
       "      <th>324</th>\n",
       "      <td>325</td>\n",
       "      <td>2024-Q2</td>\n",
       "      <td>New Sale</td>\n",
       "      <td>Completed</td>\n",
       "      <td>0</td>\n",
       "    </tr>\n",
       "    <tr>\n",
       "      <th>325</th>\n",
       "      <td>326</td>\n",
       "      <td>2024-Q2</td>\n",
       "      <td>New Sale</td>\n",
       "      <td>Uncompleted</td>\n",
       "      <td>230</td>\n",
       "    </tr>\n",
       "    <tr>\n",
       "      <th>326</th>\n",
       "      <td>327</td>\n",
       "      <td>2024-Q2</td>\n",
       "      <td>Resale</td>\n",
       "      <td>na</td>\n",
       "      <td>1091</td>\n",
       "    </tr>\n",
       "    <tr>\n",
       "      <th>327</th>\n",
       "      <td>328</td>\n",
       "      <td>2024-Q2</td>\n",
       "      <td>Sub Sale</td>\n",
       "      <td>na</td>\n",
       "      <td>148</td>\n",
       "    </tr>\n",
       "  </tbody>\n",
       "</table>\n",
       "<p>328 rows × 5 columns</p>\n",
       "</div>"
      ],
      "text/plain": [
       "     _id  quarter type_of_sale  sale_status units\n",
       "0      1  2004-Q1     New Sale    Completed   128\n",
       "1      2  2004-Q1     New Sale  Uncompleted   399\n",
       "2      3  2004-Q1       Resale           na   359\n",
       "3      4  2004-Q1     Sub Sale           na    16\n",
       "4      5  2004-Q2     New Sale    Completed   128\n",
       "..   ...      ...          ...          ...   ...\n",
       "323  324  2024-Q1     Sub Sale           na   137\n",
       "324  325  2024-Q2     New Sale    Completed     0\n",
       "325  326  2024-Q2     New Sale  Uncompleted   230\n",
       "326  327  2024-Q2       Resale           na  1091\n",
       "327  328  2024-Q2     Sub Sale           na   148\n",
       "\n",
       "[328 rows x 5 columns]"
      ]
     },
     "execution_count": 12,
     "metadata": {},
     "output_type": "execute_result"
    }
   ],
   "source": [
    "property_transasctions"
   ]
  },
  {
   "cell_type": "markdown",
   "metadata": {},
   "source": [
    "### Private Residential Property Rental Index , (Base Quarter 2009-Q1 = 100), Quarterly\n",
    "- https://data.gov.sg/datasets/d_8e4c50283fb7052a391dfb746a05c853/view"
   ]
  },
  {
   "cell_type": "code",
   "execution_count": 13,
   "metadata": {},
   "outputs": [],
   "source": [
    "rental_index = fetch_data(\n",
    "    url=\"https://data.gov.sg/api/action/datastore_search?resource_id=\", \n",
    "    dataset_id=\"d_8e4c50283fb7052a391dfb746a05c853\"\n",
    "    )"
   ]
  },
  {
   "cell_type": "code",
   "execution_count": 14,
   "metadata": {},
   "outputs": [
    {
     "data": {
      "text/html": [
       "<div>\n",
       "<style scoped>\n",
       "    .dataframe tbody tr th:only-of-type {\n",
       "        vertical-align: middle;\n",
       "    }\n",
       "\n",
       "    .dataframe tbody tr th {\n",
       "        vertical-align: top;\n",
       "    }\n",
       "\n",
       "    .dataframe thead th {\n",
       "        text-align: right;\n",
       "    }\n",
       "</style>\n",
       "<table border=\"1\" class=\"dataframe\">\n",
       "  <thead>\n",
       "    <tr style=\"text-align: right;\">\n",
       "      <th></th>\n",
       "      <th>_id</th>\n",
       "      <th>quarter</th>\n",
       "      <th>property_type</th>\n",
       "      <th>locality</th>\n",
       "      <th>index</th>\n",
       "    </tr>\n",
       "  </thead>\n",
       "  <tbody>\n",
       "    <tr>\n",
       "      <th>0</th>\n",
       "      <td>1</td>\n",
       "      <td>2004-Q1</td>\n",
       "      <td>All Residential</td>\n",
       "      <td>Whole Island</td>\n",
       "      <td>64</td>\n",
       "    </tr>\n",
       "    <tr>\n",
       "      <th>1</th>\n",
       "      <td>2</td>\n",
       "      <td>2004-Q1</td>\n",
       "      <td>Landed</td>\n",
       "      <td>Whole Island</td>\n",
       "      <td>66.4</td>\n",
       "    </tr>\n",
       "    <tr>\n",
       "      <th>2</th>\n",
       "      <td>3</td>\n",
       "      <td>2004-Q1</td>\n",
       "      <td>Non-Landed</td>\n",
       "      <td>Whole Island</td>\n",
       "      <td>63.4</td>\n",
       "    </tr>\n",
       "    <tr>\n",
       "      <th>3</th>\n",
       "      <td>4</td>\n",
       "      <td>2004-Q1</td>\n",
       "      <td>Non-Landed</td>\n",
       "      <td>Core Central Region</td>\n",
       "      <td>63.3</td>\n",
       "    </tr>\n",
       "    <tr>\n",
       "      <th>4</th>\n",
       "      <td>5</td>\n",
       "      <td>2004-Q1</td>\n",
       "      <td>Non-Landed</td>\n",
       "      <td>Rest of Central Region</td>\n",
       "      <td>65.6</td>\n",
       "    </tr>\n",
       "    <tr>\n",
       "      <th>...</th>\n",
       "      <td>...</td>\n",
       "      <td>...</td>\n",
       "      <td>...</td>\n",
       "      <td>...</td>\n",
       "      <td>...</td>\n",
       "    </tr>\n",
       "    <tr>\n",
       "      <th>475</th>\n",
       "      <td>476</td>\n",
       "      <td>2024-Q2</td>\n",
       "      <td>Landed</td>\n",
       "      <td>Whole Island</td>\n",
       "      <td>149.5</td>\n",
       "    </tr>\n",
       "    <tr>\n",
       "      <th>476</th>\n",
       "      <td>477</td>\n",
       "      <td>2024-Q2</td>\n",
       "      <td>Non-Landed</td>\n",
       "      <td>Whole Island</td>\n",
       "      <td>156.5</td>\n",
       "    </tr>\n",
       "    <tr>\n",
       "      <th>477</th>\n",
       "      <td>478</td>\n",
       "      <td>2024-Q2</td>\n",
       "      <td>Non-Landed</td>\n",
       "      <td>Core Central Region</td>\n",
       "      <td>147.8</td>\n",
       "    </tr>\n",
       "    <tr>\n",
       "      <th>478</th>\n",
       "      <td>479</td>\n",
       "      <td>2024-Q2</td>\n",
       "      <td>Non-Landed</td>\n",
       "      <td>Rest of Central Region</td>\n",
       "      <td>164.6</td>\n",
       "    </tr>\n",
       "    <tr>\n",
       "      <th>479</th>\n",
       "      <td>480</td>\n",
       "      <td>2024-Q2</td>\n",
       "      <td>Non-Landed</td>\n",
       "      <td>Outside Central Region</td>\n",
       "      <td>163.3</td>\n",
       "    </tr>\n",
       "  </tbody>\n",
       "</table>\n",
       "<p>480 rows × 5 columns</p>\n",
       "</div>"
      ],
      "text/plain": [
       "     _id  quarter    property_type                locality  index\n",
       "0      1  2004-Q1  All Residential            Whole Island     64\n",
       "1      2  2004-Q1           Landed            Whole Island   66.4\n",
       "2      3  2004-Q1       Non-Landed            Whole Island   63.4\n",
       "3      4  2004-Q1       Non-Landed     Core Central Region   63.3\n",
       "4      5  2004-Q1       Non-Landed  Rest of Central Region   65.6\n",
       "..   ...      ...              ...                     ...    ...\n",
       "475  476  2024-Q2           Landed            Whole Island  149.5\n",
       "476  477  2024-Q2       Non-Landed            Whole Island  156.5\n",
       "477  478  2024-Q2       Non-Landed     Core Central Region  147.8\n",
       "478  479  2024-Q2       Non-Landed  Rest of Central Region  164.6\n",
       "479  480  2024-Q2       Non-Landed  Outside Central Region  163.3\n",
       "\n",
       "[480 rows x 5 columns]"
      ]
     },
     "execution_count": 14,
     "metadata": {},
     "output_type": "execute_result"
    }
   ],
   "source": [
    "rental_index"
   ]
  },
  {
   "cell_type": "markdown",
   "metadata": {},
   "source": [
    "### Private Residential Property Price Index (Base Quarter 2009-Q1 = 100), Quarterly\n",
    "- https://data.gov.sg/datasets/d_97f8a2e995022d311c6c68cfda6d034c/view"
   ]
  },
  {
   "cell_type": "code",
   "execution_count": null,
   "metadata": {},
   "outputs": [],
   "source": [
    "price_index = fetch_data(\n",
    "    url=\"https://data.gov.sg/api/action/datastore_search?resource_id=\", \n",
    "    dataset_id=\"d_97f8a2e995022d311c6c68cfda6d034c\"\n",
    "    )"
   ]
  },
  {
   "cell_type": "markdown",
   "metadata": {},
   "source": [
    "### Median Annual Value and Property Tax By Type of Private Residential Property\n",
    "- Median Annual Value and Property Tax\n",
    "- https://data.gov.sg/datasets/d_774a81df45dca33112e59207e6dae1af/view"
   ]
  },
  {
   "cell_type": "code",
   "execution_count": null,
   "metadata": {},
   "outputs": [],
   "source": [
    "median_val_property_tax = fetch_data(\n",
    "    url=\"https://data.gov.sg/api/action/datastore_search?resource_id=\", \n",
    "    dataset_id=\"d_774a81df45dca33112e59207e6dae1af\"\n",
    "    )"
   ]
  },
  {
   "cell_type": "markdown",
   "metadata": {},
   "source": [
    "### Private Residential Property Transactions in the Whole of Singapore, Quarterly\n",
    "- Private Residential Property Transactions\n",
    "- https://data.gov.sg/datasets/d_7c69c943d5f0d89d6a9a773d2b51f337/view"
   ]
  },
  {
   "cell_type": "code",
   "execution_count": null,
   "metadata": {},
   "outputs": [],
   "source": [
    "private_residential_transactions_whole = fetch_data(\n",
    "    url=\"https://data.gov.sg/api/action/datastore_search?resource_id=\", \n",
    "    dataset_id=\"d_7c69c943d5f0d89d6a9a773d2b51f337\"\n",
    "    )"
   ]
  },
  {
   "cell_type": "markdown",
   "metadata": {},
   "source": [
    "## Private Residential Property Transactions in Outside Central Region, Quarterly\n",
    "- https://data.gov.sg/datasets/d_1a7823f3d31e7db4b426833833762bab/view"
   ]
  },
  {
   "cell_type": "code",
   "execution_count": null,
   "metadata": {},
   "outputs": [],
   "source": [
    "private_residential_transactions_outside_central = fetch_data(\n",
    "    url=\"https://data.gov.sg/api/action/datastore_search?resource_id=\", \n",
    "    dataset_id=\"d_1a7823f3d31e7db4b426833833762bab\"\n",
    "    )"
   ]
  },
  {
   "cell_type": "markdown",
   "metadata": {},
   "source": [
    "## Private Residential Property Transactions in Core Central Region, Quarterly\n",
    "- https://data.gov.sg/datasets/d_c287c8be114bfa7d055b27ab2c87de83/view"
   ]
  },
  {
   "cell_type": "code",
   "execution_count": null,
   "metadata": {},
   "outputs": [],
   "source": [
    "private_residential_transactions_central = fetch_data(\n",
    "    url=\"https://data.gov.sg/api/action/datastore_search?resource_id=\", \n",
    "    dataset_id=\"d_c287c8be114bfa7d055b27ab2c87de83\"\n",
    "    )"
   ]
  },
  {
   "cell_type": "markdown",
   "metadata": {},
   "source": [
    "## Demand for Rental and Sold Flats\n",
    "- https://data.gov.sg/datasets/d_4b4ee36346b27fe35c529588900340b2/view"
   ]
  },
  {
   "cell_type": "code",
   "execution_count": null,
   "metadata": {},
   "outputs": [],
   "source": [
    "demand_rental_sold_flats = fetch_data(\n",
    "    url=\"https://data.gov.sg/api/action/datastore_search?resource_id=\", \n",
    "    dataset_id=\"d_4b4ee36346b27fe35c529588900340b2\"\n",
    "    )"
   ]
  },
  {
   "cell_type": "markdown",
   "metadata": {},
   "source": [
    "## Number of Sold and Rented HDB Residential Units\n",
    "- https://data.gov.sg/datasets/d_67966e5fd5dce14cf9fa5f0bc5164faf/view"
   ]
  },
  {
   "cell_type": "code",
   "execution_count": null,
   "metadata": {},
   "outputs": [],
   "source": [
    "sold_rented_hdb = fetch_data(\n",
    "    url=\"https://data.gov.sg/api/action/datastore_search?resource_id=\", \n",
    "    dataset_id=\"d_67966e5fd5dce14cf9fa5f0bc5164faf\"\n",
    "    )"
   ]
  },
  {
   "cell_type": "markdown",
   "metadata": {},
   "source": [
    "## Price Range of HDB Flats Offered\n",
    "- https://data.gov.sg/datasets/d_2d493bdcc1d9a44828b6e71cb095b88d/view"
   ]
  },
  {
   "cell_type": "code",
   "execution_count": null,
   "metadata": {},
   "outputs": [],
   "source": [
    "price_range_hdb = fetch_data(\n",
    "    url=\"https://data.gov.sg/api/action/datastore_search?resource_id=\", \n",
    "    dataset_id=\"d_2d493bdcc1d9a44828b6e71cb095b88d\"\n",
    "    )"
   ]
  },
  {
   "cell_type": "markdown",
   "metadata": {},
   "source": [
    "## HDB Resale Price Index (1Q2009 = 100), Quarterly\n",
    "- https://data.gov.sg/datasets/d_14f63e595975691e7c24a27ae4c07c79/view"
   ]
  },
  {
   "cell_type": "code",
   "execution_count": null,
   "metadata": {},
   "outputs": [],
   "source": [
    "price_index_hdb = fetch_data(\n",
    "    url=\"https://data.gov.sg/api/action/datastore_search?resource_id=\", \n",
    "    dataset_id=\"d_14f63e595975691e7c24a27ae4c07c79\"\n",
    "    )"
   ]
  },
  {
   "cell_type": "markdown",
   "metadata": {},
   "source": [
    "## Renting Out of Flats 2024 (CSV)\n",
    "- https://data.gov.sg/datasets/d_c9f57187485a850908655db0e8cfe651/view"
   ]
  },
  {
   "cell_type": "code",
   "execution_count": null,
   "metadata": {},
   "outputs": [],
   "source": [
    "renting_flats = fetch_data(\n",
    "    url=\"https://data.gov.sg/api/action/datastore_search?resource_id=\", \n",
    "    dataset_id=\"d_c9f57187485a850908655db0e8cfe651\"\n",
    "    )"
   ]
  }
 ],
 "metadata": {
  "kernelspec": {
   "display_name": "py311cv",
   "language": "python",
   "name": "python3"
  },
  "language_info": {
   "codemirror_mode": {
    "name": "ipython",
    "version": 3
   },
   "file_extension": ".py",
   "mimetype": "text/x-python",
   "name": "python",
   "nbconvert_exporter": "python",
   "pygments_lexer": "ipython3",
   "version": "3.11.8"
  }
 },
 "nbformat": 4,
 "nbformat_minor": 2
}
