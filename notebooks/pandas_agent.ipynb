{
 "cells": [
  {
   "cell_type": "code",
   "execution_count": 1,
   "metadata": {},
   "outputs": [
    {
     "data": {
      "text/plain": [
       "True"
      ]
     },
     "execution_count": 1,
     "metadata": {},
     "output_type": "execute_result"
    }
   ],
   "source": [
    "from langchain.agents.agent_types import AgentType\n",
    "from langchain_experimental.agents.agent_toolkits import create_pandas_dataframe_agent\n",
    "from langchain_google_genai import ChatGoogleGenerativeAI\n",
    "import pandas as pd\n",
    "\n",
    "from dotenv import load_dotenv\n",
    "load_dotenv()"
   ]
  },
  {
   "cell_type": "code",
   "execution_count": 6,
   "metadata": {},
   "outputs": [],
   "source": [
    "llm = ChatGoogleGenerativeAI(model = 'gemini-1.5-flash-latest')\n",
    "df = pd.read_csv('../data/listing_search_result.csv')"
   ]
  },
  {
   "cell_type": "code",
   "execution_count": 7,
   "metadata": {},
   "outputs": [],
   "source": [
    "agent = create_pandas_dataframe_agent(llm, df, verbose=True, allow_dangerous_code=True)"
   ]
  },
  {
   "cell_type": "code",
   "execution_count": 8,
   "metadata": {},
   "outputs": [
    {
     "name": "stderr",
     "output_type": "stream",
     "text": [
      "Error in StdOutCallbackHandler.on_chain_start callback: AttributeError(\"'NoneType' object has no attribute 'get'\")\n"
     ]
    },
    {
     "name": "stdout",
     "output_type": "stream",
     "text": [
      "\u001b[32;1m\u001b[1;3mThought: I can find the number of rows using the shape attribute\n",
      "Action: python_repl_ast\n",
      "Action Input: print(df.shape)\u001b[0m\u001b[36;1m\u001b[1;3m(178, 11)\n",
      "\u001b[0m\u001b[32;1m\u001b[1;3mThought: The shape attribute gives the number of rows and columns. The first value in the tuple is the number of rows\n",
      "Final Answer: 178 rows \n",
      "\u001b[0m\n",
      "\n",
      "\u001b[1m> Finished chain.\u001b[0m\n"
     ]
    },
    {
     "data": {
      "text/plain": [
       "{'input': 'how many rows are there?', 'output': '178 rows'}"
      ]
     },
     "execution_count": 8,
     "metadata": {},
     "output_type": "execute_result"
    }
   ],
   "source": [
    "agent.invoke('how many rows are there?')"
   ]
  },
  {
   "cell_type": "code",
   "execution_count": 9,
   "metadata": {},
   "outputs": [
    {
     "name": "stderr",
     "output_type": "stream",
     "text": [
      "Error in StdOutCallbackHandler.on_chain_start callback: AttributeError(\"'NoneType' object has no attribute 'get'\")\n"
     ]
    },
    {
     "name": "stdout",
     "output_type": "stream",
     "text": [
      "\u001b[32;1m\u001b[1;3mThought: I need to look at the column names to figure out what the dataset is about.\n",
      "Action: python_repl_ast\n",
      "Action Input: print(df.columns)\u001b[0m\u001b[36;1m\u001b[1;3mIndex(['listing_id', 'listing_title', 'street_address', 'bed', 'bath', 'psf',\n",
      "       'sqft', 'listing_price', 'property_type', 'tenure', 'top'],\n",
      "      dtype='object')\n",
      "\u001b[0m\u001b[32;1m\u001b[1;3mThought: The column names suggest this dataset is about real estate listings. \n",
      "Final Answer: The dataset appears to be about real estate listings, containing information like listing ID, title, address, number of bedrooms and bathrooms, price per square foot, square footage, listing price, property type, tenure, and the year the property was built. \n",
      "\u001b[0m\n",
      "\n",
      "\u001b[1m> Finished chain.\u001b[0m\n"
     ]
    },
    {
     "data": {
      "text/plain": [
       "{'input': 'what is this dataset about?',\n",
       " 'output': 'The dataset appears to be about real estate listings, containing information like listing ID, title, address, number of bedrooms and bathrooms, price per square foot, square footage, listing price, property type, tenure, and the year the property was built.'}"
      ]
     },
     "execution_count": 9,
     "metadata": {},
     "output_type": "execute_result"
    }
   ],
   "source": [
    "agent.invoke('what is this dataset about?')"
   ]
  },
  {
   "cell_type": "code",
   "execution_count": 13,
   "metadata": {},
   "outputs": [
    {
     "name": "stderr",
     "output_type": "stream",
     "text": [
      "Error in StdOutCallbackHandler.on_chain_start callback: AttributeError(\"'NoneType' object has no attribute 'get'\")\n"
     ]
    },
    {
     "name": "stdout",
     "output_type": "stream",
     "text": [
      "\u001b[32;1m\u001b[1;3mThought: I need to filter the dataframe to only include listings titled \"Watertown\" and then calculate the median number of bedrooms.\n",
      "Action: python_repl_ast\n",
      "Action Input: `df[df['listing_title'] == 'Watertown']['bed'].median()`\u001b[0m\u001b[36;1m\u001b[1;3m2.0\u001b[0m\u001b[32;1m\u001b[1;3mThought: I now know the final answer\n",
      "Final Answer: 2.0 \n",
      "\u001b[0m\n",
      "\n",
      "\u001b[1m> Finished chain.\u001b[0m\n"
     ]
    },
    {
     "data": {
      "text/plain": [
       "{'input': 'what is the median number of bedrooms available at watertown?',\n",
       " 'output': '2.0'}"
      ]
     },
     "execution_count": 13,
     "metadata": {},
     "output_type": "execute_result"
    }
   ],
   "source": [
    "agent.invoke('what is the median number of bedrooms available at watertown?')"
   ]
  }
 ],
 "metadata": {
  "kernelspec": {
   "display_name": "demo",
   "language": "python",
   "name": "python3"
  },
  "language_info": {
   "codemirror_mode": {
    "name": "ipython",
    "version": 3
   },
   "file_extension": ".py",
   "mimetype": "text/x-python",
   "name": "python",
   "nbconvert_exporter": "python",
   "pygments_lexer": "ipython3",
   "version": "3.11.10"
  }
 },
 "nbformat": 4,
 "nbformat_minor": 2
}
