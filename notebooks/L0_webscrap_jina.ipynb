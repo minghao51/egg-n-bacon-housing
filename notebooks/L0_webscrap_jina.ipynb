{
 "cells": [
  {
   "cell_type": "markdown",
   "metadata": {},
   "source": [
    "# Web Scraping and Data Retrieval using Jina.ai and Python Tenacity\n",
    "\n",
    "## Overview\n",
    "\n",
    "Key Pipelines\n",
    "\n",
    "- URL Processing: Clean and process lists of URLs using Python\n",
    "- Neural Search: Utilize (Jina AI)'s neural search framework for efficient property data retrieval\n",
    "- Exponential Backoff: Implement retry logic with Tenacity for robust error handling\n",
    "\n",
    "# Requirements\n",
    "\n",
    "- Jina.ai account with API credentials (in .env)\n"
   ]
  },
  {
   "cell_type": "code",
   "execution_count": 111,
   "metadata": {},
   "outputs": [
    {
     "data": {
      "text/plain": [
       "True"
      ]
     },
     "execution_count": 111,
     "metadata": {},
     "output_type": "execute_result"
    }
   ],
   "source": [
    "# import pandas as pd\n",
    "# import numpy as np\n",
    "import os\n",
    "from dotenv import load_dotenv\n",
    "\n",
    "# Load the environment variables from .env file\n",
    "load_dotenv()"
   ]
  },
  {
   "cell_type": "code",
   "execution_count": 112,
   "metadata": {},
   "outputs": [],
   "source": [
    "# os.environ['JINA_AI']"
   ]
  },
  {
   "cell_type": "code",
   "execution_count": 113,
   "metadata": {},
   "outputs": [],
   "source": [
    "urls_list = [\n",
    "    \"[1] https://www.ura.gov.sg/Corporate/Property/Residential/Buying-Property\",\n",
    "    \"[2] https://quickcredit.com.sg/things-to-consider-when-buying-a-house-in-singapore/\",\n",
    "    \"[3] https://www.rently.sg/blog/what-to-know-before-buying-rental-property-key-considerations\",\n",
    "    \"[4] https://www.mingproperty.sg/property-buying-considerations/\",\n",
    "    \"[5] https://sghomeinvestment.com/buying-a-property-in-singapore-factors-to-consider/\",\n",
    "    \"[6] https://darrenong.sg/blog/a-complete-guide-to-buy-a-property-in-singapore/\",\n",
    "    \"[7] https://www.singsaver.com.sg/blog/how-to-buy-a-house-in-singapore\",\n",
    "    \"[8] https://www.odintax.com/resources/buying-a-house-in-singapore/\",\n",
    "    \"[1] https://darrenong.sg/blog/a-complete-guide-to-buy-a-property-in-singapore/\",\n",
    "    \"[2] https://quickcredit.com.sg/things-to-consider-when-buying-a-house-in-singapore/\",\n",
    "    \"[3] https://www.wisemove.sg/post/types-of-housing-in-singapore\",\n",
    "    \"[4] https://sghomeinvestment.com/buying-a-property-in-singapore-factors-to-consider/\",\n",
    "    \"[5] https://www.99.co/singapore/insider/a-general-guide-to-types-of-housing-in-singapore/\",\n",
    "    \"[6] https://plbinsights.com/understanding-the-different-property-types-in-singapore/\",\n",
    "    \"[7] https://www.redbrick.sg/blog/what-are-the-different-types-of-private-and-landed-property-in-singapore/\",\n",
    "    \"[8] https://www.singstat.gov.sg/-/media/files/standards_and_classifications/sctd.ashx\",\n",
    "    \"[1] https://jaysonang.com/2024/08/29/5-key-factors-that-affect-singapores-property-prices/\",\n",
    "    \"[2] https://quickcredit.com.sg/things-to-consider-when-buying-a-house-in-singapore/\",\n",
    "    \"[3] https://www.mingproperty.sg/property-buying-considerations/\",\n",
    "    \"[4] https://www.neezanizam.com/property-nuggets/4-essential-factors-to-consider-before-buying-property\",\n",
    "    \"[5] https://www.singsaver.com.sg/blog/how-to-buy-a-house-in-singapore\",\n",
    "    \"[6] https://www.rently.sg/blog/what-to-know-before-buying-rental-property-key-considerations\",\n",
    "    \"[7] https://sghomeinvestment.com/buying-a-property-in-singapore-factors-to-consider/\",\n",
    "    \"[8] https://darrenong.sg/blog/a-complete-guide-to-buy-a-property-in-singapore/\",\n",
    "    \"[1] https://8-atbt.com.sg\",\n",
    "    \"[2] https://8at-bt.com.sg\",\n",
    "    \"[3] https://propertyreviewsg.com/8-at-bt-factsheet/\",\n",
    "    \"[4] https://propertyreviewsg.com/8-at-bt/\",\n",
    "    \"[5] https://stackedhomes.com/editorial/8bt-condo-review/\",\n",
    "    \"[6] https://www.bukitsembawang.sg/8atbt\",\n",
    "    \"[7] https://plbinsights.com/understanding-the-different-property-types-in-singapore/\",\n",
    "    \"[8] https://darrenong.sg/blog/a-complete-guide-to-buy-a-property-in-singapore/\",\n",
    "    \"[1] https://sghomeinvestment.com/8bt-condo-review-capitalise-on-beauty-worlds-transformation/\",\n",
    "    \"[2] https://stackedhomes.com/editorial/should-you-buy-8bt-a-pricing-review-comparison-with-the-reserve-residences-and-the-linq-beauty-world/\",\n",
    "    \"[3] https://primior.com/importance-of-accessibility-how-location-affects-property-value/\",\n",
    "    \"[4] https://stackedhomes.com/editorial/8bt-condo-review/\",\n",
    "    \"[5] https://8at-bt.com.sg\",\n",
    "    \"[6] https://propertyreviewsg.com/8-at-bt/\",\n",
    "    \"[7] https://www.newlaunchesreview.com/8bt/\",\n",
    "    \"[8] https://8-atbt.com.sg\",\n",
    "    \"[1] https://darrenong.sg/blog/a-complete-guide-to-buy-a-property-in-singapore/\",\n",
    "    \"[2] https://quickcredit.com.sg/things-to-consider-when-buying-a-house-in-singapore/\",\n",
    "    \"[3] https://www.wisemove.sg/post/types-of-housing-in-singapore\",\n",
    "    \"[4] https://sghomeinvestment.com/buying-a-property-in-singapore-factors-to-consider/\",\n",
    "    \"[5] https://www.99.co/singapore/insider/a-general-guide-to-types-of-housing-in-singapore/\",\n",
    "    \"[6] https://plbinsights.com/understanding-the-different-property-types-in-singapore/\",\n",
    "    \"[7] https://www.redbrick.sg/blog/what-are-the-different-types-of-private-and-landed-property-in-singapore/\",\n",
    "    \"[8] https://www.singstat.gov.sg/-/media/files/standards_and_classifications/sctd.ashx\",\n",
    "    \"[1] https://jaysonang.com/2024/08/29/5-key-factors-that-affect-singapores-property-prices/\",\n",
    "    \"[2] https://quickcredit.com.sg/things-to-consider-when-buying-a-house-in-singapore/\",\n",
    "    \"[3] https://www.mingproperty.sg/property-buying-considerations/\",\n",
    "    \"[4] https://www.neezanizam.com/property-nuggets/4-essential-factors-to-consider-before-buying-property\",\n",
    "    \"[5] https://www.singsaver.com.sg/blog/how-to-buy-a-house-in-singapore\",\n",
    "    \"[6] https://www.rently.sg/blog/what-to-know-before-bbuying-rental-property-key-considerations\",\n",
    "    \"[7] https://sghomeinvestment.com/buying-a-property-in-singapore-factors-to-consider/\",\n",
    "    \"[8] https://darrenong.sg/blog/a-complete-guide-to-buy-a-property-in-singapore/\",\n",
    "]"
   ]
  },
  {
   "cell_type": "code",
   "execution_count": 114,
   "metadata": {},
   "outputs": [
    {
     "data": {
      "text/plain": [
       "26"
      ]
     },
     "execution_count": 114,
     "metadata": {},
     "output_type": "execute_result"
    }
   ],
   "source": [
    "def urls_cleaner(urls_list: list):\n",
    "    # Initialize an empty list to store the URLs\n",
    "    urls = []\n",
    "\n",
    "    # Iterate over each string in the list\n",
    "    for item in urls_list:\n",
    "        # Split the string into two parts at the space character\n",
    "        parts = item.split(\" \")\n",
    "\n",
    "        # The second part is the URL\n",
    "        url = parts[1]\n",
    "\n",
    "        # Add the URL to the list if it's not already there\n",
    "        if url not in urls:\n",
    "            urls.append(url)\n",
    "    return urls\n",
    "\n",
    "\n",
    "# Print the set of URLs\n",
    "urls = urls_cleaner(urls_list)\n",
    "urls = list(set(urls))\n",
    "len(urls)"
   ]
  },
  {
   "cell_type": "code",
   "execution_count": 115,
   "metadata": {},
   "outputs": [],
   "source": [
    "import requests\n",
    "from tenacity import retry, stop_after_attempt, wait_exponential\n",
    "\n",
    "\n",
    "def reader_url_jina(urls):\n",
    "    # Use tenacity to retry failed requests with exponential backoff\n",
    "    @retry(\n",
    "        stop=stop_after_attempt(3), wait=wait_exponential(multiplier=1, min=4, max=10)\n",
    "    )\n",
    "    def _fetch_url(url):\n",
    "        \"\"\"\n",
    "        Fetch a URL and return the response text.\n",
    "\n",
    "        Args:\n",
    "        url (str): The URL to fetch.\n",
    "\n",
    "        Returns:\n",
    "        str: The response text.\n",
    "        \"\"\"\n",
    "        base_url = \"https://r.jina.ai/\"\n",
    "        headers = {\"Authorization\": os.environ[\"JINA_AI\"]}\n",
    "        response = requests.get(base_url + url, headers=headers)\n",
    "        response.raise_for_status()  # Raise an exception for bad status codes\n",
    "        return response.text\n",
    "\n",
    "    response_text = []\n",
    "\n",
    "    for item in urls:\n",
    "        # Add the URL to the list if it's not already there\n",
    "        response_text.append(_fetch_url(item))\n",
    "\n",
    "    # Print the list of URLs\n",
    "    return response_text\n"
   ]
  },
  {
   "cell_type": "code",
   "execution_count": 116,
   "metadata": {},
   "outputs": [],
   "source": [
    "# import pprint\n",
    "\n",
    "\n",
    "def extract_title_url(text) -> dict:\n",
    "    \"\"\"\n",
    "    Extracts the title and URL from a formatted string.\n",
    "\n",
    "    Args:\n",
    "        text: The string containing title, URL, and other information.\n",
    "\n",
    "    Returns:\n",
    "        A dictionary containing the extracted title and URL, or None if not found.\n",
    "    \"\"\"\n",
    "    lines = text.splitlines()\n",
    "    result = {}\n",
    "\n",
    "    for line in lines:\n",
    "        if line.startswith(\"Title: \"):\n",
    "            result[\"title\"] = line.replace(\"Title: \", \"\").strip()\n",
    "        elif line.startswith(\"URL Source: \"):\n",
    "            result[\"url\"] = line.replace(\"URL Source: \", \"\").strip()\n",
    "\n",
    "    if \"title\" in result and \"url\" in result:\n",
    "        return result\n",
    "    else:\n",
    "        return None\n",
    "\n",
    "\n",
    "import re\n",
    "\n",
    "\n",
    "def extract_all_url(text) -> dict:\n",
    "    \"\"\"\n",
    "    Extracts the title and URL from a formatted string.\n",
    "\n",
    "    Args:\n",
    "        text: The string containing title, URL, and other information.\n",
    "\n",
    "    Returns:\n",
    "        A dictionary containing the extracted title and URL, or None if not found.\n",
    "    \"\"\"\n",
    "    result = {}\n",
    "\n",
    "    result[\"title\"] = re.search(r\"Title: (.*)\", text).group(1).strip()\n",
    "    result[\"url\"] = re.search(r\"URL Source: (.*)\", text).group(1).strip()\n",
    "    match = re.search(r\"Published Time: (.*)\", text)\n",
    "    result[\"time\"] = (\n",
    "        re.search(r\"Published Time: (.*)\", text).group(1).strip() if match else \"\"\n",
    "    )\n",
    "    result[\"md\"] = re.search(r\"Markdown Content:(.*)\", text, re.DOTALL).group(1).strip()\n",
    "\n",
    "    if \"title\" in result and \"url\" in result:\n",
    "        return result\n",
    "    else:\n",
    "        return None\n",
    "\n",
    "\n",
    "# pprint.pprint(response_text[1])\n",
    "# extract_title_url(response_text[1])"
   ]
  },
  {
   "cell_type": "code",
   "execution_count": 117,
   "metadata": {},
   "outputs": [],
   "source": [
    "import os\n",
    "import openai\n",
    "\n",
    "client = openai.OpenAI(\n",
    "    base_url=\"https://api.groq.com/openai/v1\", api_key=os.environ.get(\"GROQ\")\n",
    ")"
   ]
  },
  {
   "cell_type": "code",
   "execution_count": 133,
   "metadata": {},
   "outputs": [],
   "source": [
    "# extract the from the title and url in the response_text, craft a descriptive and concise name that is at indicative of \"source domain -  title via llm\"\n",
    "\n",
    "from typing import Dict\n",
    "\n",
    "\n",
    "def llm_extract_name(\n",
    "    title_url_dict: Dict[str, str],\n",
    "    client: openai.OpenAI = client,\n",
    "    model: str = \"llama-3.1-8b-instant\",\n",
    ") -> str:\n",
    "    \"\"\"\n",
    "    Extract a suitable name from a dictionary of title and URL.\n",
    "\n",
    "    Args:\n",
    "    - title_url_dict (Dict[str, str]): A dictionary containing the title and URL.\n",
    "\n",
    "    Returns:\n",
    "    - str: A suitable name extracted from the title and URL.\n",
    "    \"\"\"\n",
    "\n",
    "    # Extract the title and URL from the dictionary\n",
    "    title = title_url_dict[\"title\"]\n",
    "    url = title_url_dict[\"url\"]\n",
    "\n",
    "    # Prepare the input text\n",
    "    prompt = f\"Craft a concise and descriptive name from the following title and URL: '{title}' - '{url}', make sure it follow the format domain (without https and .com) - title. Return a single most indicative name without any other extra info or extra words\"\n",
    "\n",
    "    completion = client.chat.completions.create(\n",
    "        model=model,\n",
    "        messages=[\n",
    "            {\"role\": \"system\", \"content\": \"You are a helpful assistant.\"},\n",
    "            {\"role\": \"user\", \"content\": prompt},\n",
    "        ],\n",
    "    )\n",
    "\n",
    "    # Return the response text as the extracted name\n",
    "    return completion.choices[0].message.content\n"
   ]
  },
  {
   "cell_type": "markdown",
   "metadata": {},
   "source": [
    "# Main pipeline\n"
   ]
  },
  {
   "cell_type": "code",
   "execution_count": 119,
   "metadata": {},
   "outputs": [],
   "source": [
    "urls_markdown = reader_url_jina(urls)\n",
    "url_list_dict = [extract_all_url(i) for i in urls_markdown]\n",
    "filenames_list = [llm_extract_name(i) for i in url_list_dict]\n",
    "\n",
    "markdown_list = [i[\"md\"] for i in url_list_dict]"
   ]
  },
  {
   "cell_type": "code",
   "execution_count": 134,
   "metadata": {},
   "outputs": [],
   "source": [
    "filenames_list = [llm_extract_name(i) for i in url_list_dict]"
   ]
  },
  {
   "cell_type": "code",
   "execution_count": 122,
   "metadata": {},
   "outputs": [],
   "source": [
    "import yaml\n",
    "import markdown\n",
    "\n",
    "\n",
    "def save_dict_to_markdown(data, file_path):\n",
    "    \"\"\"\n",
    "    Save a dictionary to a Markdown file with front matter.\n",
    "\n",
    "    Args:\n",
    "        data (dict): Dictionary containing URL, title, time, and Markdown content.\n",
    "        file_path (str): Path to the Markdown file.\n",
    "\n",
    "    Example:\n",
    "        data = {\n",
    "            'url': 'https://example.com',\n",
    "            'title': 'Example Title',\n",
    "            'time': '2024-09-09T21:00:57+08:00',\n",
    "            'markdown_content': '# Example Markdown Content'\n",
    "        }\n",
    "        save_dict_to_markdown(data, 'example.md')\n",
    "    \"\"\"\n",
    "\n",
    "    # Create front matter\n",
    "    # front_matter = yaml.dump(\n",
    "    #     {\"url\": data[\"url\"], \"title\": data[\"title\"], \"time\": data.get(\"time\")}\n",
    "    # )\n",
    "    front_matter = f\"# {data['title']}\\n\"\n",
    "\n",
    "    # Create Markdown content\n",
    "    markdown_content = data['md'] #\"\\n\\n---\\n\\n\" +\n",
    "\n",
    "    # Save to file\n",
    "    with open(file_path, \"w\") as f:\n",
    "        f.write(front_matter + markdown_content)"
   ]
  },
  {
   "cell_type": "code",
   "execution_count": 137,
   "metadata": {},
   "outputs": [],
   "source": [
    "save_path = \"data/raw_documents\"\n",
    "\n",
    "# Save each Markdown file\n",
    "dirname = os.path.dirname(os.getcwd())\n",
    "for markdown_full, filename in zip(url_list_dict, filenames_list):\n",
    "    file_path = os.path.join(dirname, save_path, f\"{filename}.md\")\n",
    "    save_dict_to_markdown(markdown_full, file_path)"
   ]
  },
  {
   "cell_type": "code",
   "execution_count": 159,
   "metadata": {},
   "outputs": [],
   "source": [
    "import polars as pl\n",
    "\n",
    "df = pl.DataFrame(url_list_dict)\n",
    "df = df.drop('md')\n",
    "\n",
    "df_filename = pl.DataFrame(filenames_list)\n",
    "df_filename.columns = ['file_name']\n",
    "\n",
    "df_all = pl.concat([df_filename, df], how=\"horizontal\")\n",
    "\n",
    "df_all.write_csv(dirname+\"/data/raw_documents/master_index.csv\")"
   ]
  },
  {
   "cell_type": "markdown",
   "metadata": {},
   "source": [
    "# Extract exploration"
   ]
  },
  {
   "cell_type": "code",
   "execution_count": 79,
   "metadata": {},
   "outputs": [],
   "source": [
    "import glob\n",
    "\n",
    "\n",
    "def list_files_in_directory(path):\n",
    "    \"\"\"\n",
    "    This function reads the files from a given directory into a list.\n",
    "\n",
    "    Args:\n",
    "        path (str): The path to the directory from which files are to be read.\n",
    "\n",
    "    Returns:\n",
    "        list: A list of filenames in the given directory.\n",
    "    \"\"\"\n",
    "    try:\n",
    "        # Use glob to get a list of all files in the directory\n",
    "        return glob.glob(os.path.join(path, \"*.*\"))\n",
    "\n",
    "    except FileNotFoundError:\n",
    "        print(f\"Directory not found: {path}\")\n",
    "        return []\n",
    "\n",
    "    except NotADirectoryError:\n",
    "        print(f\"Not a directory: {path}\")\n",
    "        return []"
   ]
  },
  {
   "cell_type": "code",
   "execution_count": 80,
   "metadata": {},
   "outputs": [],
   "source": [
    "# Load Markdown file\n",
    "def load_markdown(file_path):\n",
    "    with open(file_path, \"r\") as f:\n",
    "        markdown_text = f.read()\n",
    "    return markdown_text\n",
    "\n",
    "\n",
    "# # Extract front matter and content\n",
    "# def extract_front_matter(markdown_text):\n",
    "#     lines = markdown_text.splitlines()\n",
    "#     front_matter = {}\n",
    "#     content = []\n",
    "#     in_front_matter = True\n",
    "#     for line in lines:\n",
    "#         if line == \"---\":\n",
    "#             in_front_matter = False\n",
    "#         elif in_front_matter:\n",
    "#             key, value = line.split(\":\")\n",
    "#             front_matter[key.strip()] = value.strip()\n",
    "#         else:\n",
    "#             content.append(line)\n",
    "#     return front_matter, \"\\n\".join(content)"
   ]
  },
  {
   "cell_type": "code",
   "execution_count": 81,
   "metadata": {},
   "outputs": [
    {
     "data": {
      "text/plain": [
       "['/home/howt/work/egg-n-bacon-housing/data/raw_documents/propertyreviewsg - 8@BT.md',\n",
       " '/home/howt/work/egg-n-bacon-housing/data/raw_documents/StackedHomes - Should You Buy 8@BT With The Reserve Residences And The Linq Beautification..md',\n",
       " '/home/howt/work/egg-n-bacon-housing/data/raw_documents/propertyreviewsg - 8 BT Factsheet.md',\n",
       " '/home/howt/work/egg-n-bacon-housing/data/raw_documents/StackedHomes - 8@BT Condo Review.md',\n",
       " \"/home/howt/work/egg-n-bacon-housing/data/raw_documents/jaysonang - Singapore's 5 Property Price Factors.md\",\n",
       " '/home/howt/work/egg-n-bacon-housing/data/raw_documents/Sg Home Investment - 8@BT Condo Review.md',\n",
       " '/home/howt/work/egg-n-bacon-housing/data/raw_documents/quickcredit.com.sg - Home Buying Considerations in Singapore.md',\n",
       " '/home/howt/work/egg-n-bacon-housing/data/raw_documents/odintax - Singapore House Purchase Guide.md',\n",
       " '/home/howt/work/egg-n-bacon-housing/data/raw_documents/Newlaunchesreview - 8-BT Launches.md',\n",
       " '/home/howt/work/egg-n-bacon-housing/data/raw_documents/Ming Property Singapore - Buying in Singapore..md',\n",
       " '/home/howt/work/egg-n-bacon-housing/data/raw_documents/plbinsights - Singapore Property Types.md',\n",
       " '/home/howt/work/egg-n-bacon-housing/data/raw_documents/primior - Robot Challenge Impact on Accessibility.md',\n",
       " '/home/howt/work/egg-n-bacon-housing/data/raw_documents/8at-bt.com.sg - BT Residential Review.md',\n",
       " '/home/howt/work/egg-n-bacon-housing/data/raw_documents/singstat.gov.sg - Singapore Standard Classification of Type and Dwelling.md',\n",
       " '/home/howt/work/egg-n-bacon-housing/data/raw_documents/99.co Housing Types in Singapore.md',\n",
       " '/home/howt/work/egg-n-bacon-housing/data/raw_documents/URA - Urban Redevelopment Authority.md',\n",
       " '/home/howt/work/egg-n-bacon-housing/data/raw_documents/rently - Singapore Rental Property Considerations.md',\n",
       " '/home/howt/work/egg-n-bacon-housing/data/raw_documents/Rently.sg - Key Considerations When Buying Rental Property.md',\n",
       " '/home/howt/work/egg-n-bacon-housing/data/raw_documents/bukitsembawang - Highly Exclusive Residences in Bukit Timah (8@BT).md',\n",
       " '/home/howt/work/egg-n-bacon-housing/data/raw_documents/8-atbt - 8@BT  ShowFlat 6100 1914 Update 2024.md',\n",
       " '/home/howt/work/egg-n-bacon-housing/data/raw_documents/SingSaver - Buying a House in Singapore.md',\n",
       " '/home/howt/work/egg-n-bacon-housing/data/raw_documents/Redbrick - Types of Private Landed Property in Singapore.md',\n",
       " '/home/howt/work/egg-n-bacon-housing/data/raw_documents/sghomeinvestment - Buying the Right Singapore Property.md',\n",
       " '/home/howt/work/egg-n-bacon-housing/data/raw_documents/darrenong.sg - Ultimate Singapore Property Guide.md',\n",
       " '/home/howt/work/egg-n-bacon-housing/data/raw_documents/Neezanizam - Consider Before Buying Property.md',\n",
       " '/home/howt/work/egg-n-bacon-housing/data/raw_documents/wisemove - Singapore Housing Types.md']"
      ]
     },
     "execution_count": 81,
     "metadata": {},
     "output_type": "execute_result"
    }
   ],
   "source": [
    "import os\n",
    "\n",
    "dirname = os.path.dirname(os.getcwd())\n",
    "list_files_in_directory(dirname + \"/data/raw_documents\")"
   ]
  },
  {
   "cell_type": "code",
   "execution_count": 86,
   "metadata": {},
   "outputs": [
    {
     "data": {
      "text/plain": [
       "\"time: '2021-01-12T11:25:08+08:00'\\ntitle: 8@BT | Bukit Sembawang | New Launch Sep 2024! | Tel 61008108\\nurl: https://propertyreviewsg.com/8-at-bt/\\n\\n\\n---\\n\\n8@BT  \\n\\n-------\\n\\nBukit Timah Link GLS\\n\\nPreviewing : 7 to 17 Sep 2024  \\nBooking Day : 21 Sep 2024\\n\\nDEVELOPER : Bukit One Pte. Ltd.\\n\\n[CALL 6100 8108](tel:6561008108)\\n\\nDISTRICT\\n\\nD21 - UPPER BUKIT TIMAH\\n\\n![Image 1](https://propertyreviewsg.com/wp-content/uploads/2024/08/8@BT-Logo.png)![Image 2](https://propertyreviewsg.com/wp-content/uploads/2024/09/8@BT-Banner-Ad.png)\\n\\nRegister your Interest for 8@BT Today!  \\n\\n-----------------------------------------\\n\\n8@BT is the project name for the Bukit Timah Link GLS Land site is located within the Beauty World precinct, which is envisioned to be a green urban village that serves as the centre of community life and the southern gateway into Bukit Timah’s nature attractions.\\n\\nThis land plot is directly beside Beauty World MRT Station, offering unparalleled convenience and connectivity.\\n\\nDirectly beside Beauty World MRT Station\\n\\nPreviewing : 7 to 17 Sep 2024\\n\\nBooking Day : 21 Sep 2024\\n\\n#### Register Your Interest Today!\\n\\nIf you'd like to be the first to be updated when the land plot is launched, register with us today!\""
      ]
     },
     "execution_count": 86,
     "metadata": {},
     "output_type": "execute_result"
    }
   ],
   "source": [
    "load_markdown(r\"/home/howt/work/egg-n-bacon-housing/data/raw_documents/propertyreviewsg - 8@BT.md\")"
   ]
  },
  {
   "cell_type": "code",
   "execution_count": 87,
   "metadata": {},
   "outputs": [
    {
     "ename": "ValueError",
     "evalue": "not enough values to unpack (expected 2, got 1)",
     "output_type": "error",
     "traceback": [
      "\u001b[0;31m---------------------------------------------------------------------------\u001b[0m",
      "\u001b[0;31mValueError\u001b[0m                                Traceback (most recent call last)",
      "Cell \u001b[0;32mIn[87], line 1\u001b[0m\n\u001b[0;32m----> 1\u001b[0m \u001b[43mextract_front_matter\u001b[49m\u001b[43m(\u001b[49m\u001b[38;5;124;43mr\u001b[39;49m\u001b[38;5;124;43m\"\u001b[39;49m\u001b[38;5;124;43m/home/howt/work/egg-n-bacon-housing/data/raw_documents/propertyreviewsg - 8@BT.md\u001b[39;49m\u001b[38;5;124;43m\"\u001b[39;49m\u001b[43m)\u001b[49m\n",
      "Cell \u001b[0;32mIn[80], line 18\u001b[0m, in \u001b[0;36mextract_front_matter\u001b[0;34m(markdown_text)\u001b[0m\n\u001b[1;32m     16\u001b[0m     in_front_matter \u001b[38;5;241m=\u001b[39m \u001b[38;5;28;01mFalse\u001b[39;00m\n\u001b[1;32m     17\u001b[0m \u001b[38;5;28;01melif\u001b[39;00m in_front_matter:\n\u001b[0;32m---> 18\u001b[0m     key, value \u001b[38;5;241m=\u001b[39m line\u001b[38;5;241m.\u001b[39msplit(\u001b[38;5;124m\"\u001b[39m\u001b[38;5;124m:\u001b[39m\u001b[38;5;124m\"\u001b[39m)\n\u001b[1;32m     19\u001b[0m     front_matter[key\u001b[38;5;241m.\u001b[39mstrip()] \u001b[38;5;241m=\u001b[39m value\u001b[38;5;241m.\u001b[39mstrip()\n\u001b[1;32m     20\u001b[0m \u001b[38;5;28;01melse\u001b[39;00m:\n",
      "\u001b[0;31mValueError\u001b[0m: not enough values to unpack (expected 2, got 1)"
     ]
    }
   ],
   "source": [
    "extract_front_matter(r\"/home/howt/work/egg-n-bacon-housing/data/raw_documents/propertyreviewsg - 8@BT.md\")"
   ]
  }
 ],
 "metadata": {
  "kernelspec": {
   "display_name": "py311cv",
   "language": "python",
   "name": "python3"
  },
  "language_info": {
   "codemirror_mode": {
    "name": "ipython",
    "version": 3
   },
   "file_extension": ".py",
   "mimetype": "text/x-python",
   "name": "python",
   "nbconvert_exporter": "python",
   "pygments_lexer": "ipython3",
   "version": "3.11.8"
  }
 },
 "nbformat": 4,
 "nbformat_minor": 2
}
