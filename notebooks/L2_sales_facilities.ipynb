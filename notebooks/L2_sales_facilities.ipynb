{
 "cells": [
  {
   "cell_type": "code",
   "execution_count": 1,
   "metadata": {},
   "outputs": [],
   "source": [
    "import pandas as pd\n",
    "import numpy as np\n",
    "import geopandas as gpd\n",
    "from bs4 import BeautifulSoup\n",
    "import h3\n",
    "from shapely.geometry import Polygon"
   ]
  },
  {
   "cell_type": "markdown",
   "metadata": {},
   "source": [
    "# OneMap"
   ]
  },
  {
   "cell_type": "code",
   "execution_count": 2,
   "metadata": {},
   "outputs": [],
   "source": [
    "import requests\n",
    "import os\n",
    "import json\n",
    "\n",
    "url = \"https://www.onemap.gov.sg/api/auth/post/getToken\"\n",
    "\n",
    "payload = {\n",
    "    \"email\": os.environ['ONEMAP_EMAIL'],\n",
    "    \"password\": os.environ['ONEMAP_EMAIL_PASSWORD']\n",
    "}\n",
    "\n",
    "response = requests.request(\"POST\", url, json=payload)\n",
    "access_token = json.loads(response.text)['access_token']\n",
    "headers = {\"Authorization\": f\"{access_token}\"}"
   ]
  },
  {
   "cell_type": "markdown",
   "metadata": {},
   "source": [
    "# Data Input"
   ]
  },
  {
   "cell_type": "code",
   "execution_count": 3,
   "metadata": {},
   "outputs": [],
   "source": [
    "# planning area\n",
    "planning_area_gpd = gpd.read_file(\n",
    "    \"../data/raw_data/onemap_planning_area_polygon.shp\")\n",
    "\n",
    "# transactions\n",
    "condo_df = pd.read_parquet('../data/L1/housing_condo_transaction.parquet')\n",
    "ec_df = pd.read_parquet('../data/L1/housing_ec_transaction.parquet')\n",
    "hdb_df = pd.read_parquet('../data/L1/housing_hdb_transaction.parquet')\n",
    "\n",
    "# processsed data\n",
    "unique_df = pd.read_parquet('../data/L2/housing_unique_searched.parquet')\n",
    "amenity_df = pd.read_parquet('../data/L2/amenity.parqeut')\n",
    "\n",
    "# filter for only first result from onemap then\n",
    "unique_df = unique_df.loc[unique_df['search_result'] == 0]\n",
    "unique_df = unique_df.rename({'LATITUDE': 'lat', 'LONGITUDE': 'lon'}, axis=1)\n",
    "unique_df['lat'] = unique_df['lat'].astype(float)\n",
    "unique_df['lon'] = unique_df['lon'].astype(float)\n",
    "\n",
    "# unique name for ec, condo and hdb\n",
    "condo_df['unique_name'] = condo_df['Project Name'] + \\\n",
    "    ' ' + condo_df['Street Name']\n",
    "ec_df['unique_name'] = ec_df['Project Name'] + ' ' + ec_df['Street Name']\n",
    "hdb_df['unique_name'] = hdb_df['block'] + ' ' + hdb_df['street_name']"
   ]
  },
  {
   "cell_type": "code",
   "execution_count": 4,
   "metadata": {},
   "outputs": [],
   "source": [
    "# unique_df"
   ]
  },
  {
   "cell_type": "code",
   "execution_count": 5,
   "metadata": {},
   "outputs": [],
   "source": [
    "# geojson\n",
    "park_df = gpd.read_file(\"../data/L1/park.geojson\")\n",
    "park_connecter_df = gpd.read_file(\"../data/L1/park_connector.geojson\")\n",
    "waterbody_df = gpd.read_file(\"../data/L1/waterbody.geojson\")"
   ]
  },
  {
   "cell_type": "code",
   "execution_count": 6,
   "metadata": {},
   "outputs": [],
   "source": [
    "sqm_2_sqrt = 10.764"
   ]
  },
  {
   "cell_type": "markdown",
   "metadata": {},
   "source": [
    "# Casting"
   ]
  },
  {
   "cell_type": "code",
   "execution_count": 7,
   "metadata": {},
   "outputs": [],
   "source": [
    "# ameneties_h12grid = [h3.latlng_to_cell(x,y, 13)  for x,y in zip(amenity_df['lat'], amenity_df['lon'])]"
   ]
  },
  {
   "cell_type": "code",
   "execution_count": 8,
   "metadata": {},
   "outputs": [],
   "source": [
    "def generate_h3_grid_cell(lat, lon, resolution=8):\n",
    "    \"\"\"Generate H3 grid cell from lat/lon coordinates.\"\"\"\n",
    "    return h3.latlng_to_cell(lat, lon, resolution)\n",
    "\n",
    "\n",
    "def generate_grid_disk(cell, k=5):\n",
    "    \"\"\"Generate H3 grid disk from a cell.\"\"\"\n",
    "    return h3.grid_disk(cell, k)\n",
    "\n",
    "\n",
    "def generate_polygon_from_cells(cells):\n",
    "    \"\"\"Generate Shapely Polygon from H3 cells.\"\"\"\n",
    "    return Polygon(h3.cells_to_geo(cells)['coordinates'][0])\n",
    "\n",
    "\n",
    "def generate_polygons(unique_df):\n",
    "    \"\"\"\n",
    "    Generate polygons from unique_df's lat/lon coordinates.\n",
    "\n",
    "    Parameters:\n",
    "    unique_df (pandas.DataFrame): DataFrame containing 'lat' and 'lon' columns.\n",
    "\n",
    "    Returns:\n",
    "    list[shapely.Polygon]: List of polygons.\n",
    "    \"\"\"\n",
    "    return [\n",
    "        generate_polygon_from_cells(generate_grid_disk(\n",
    "            generate_h3_grid_cell(lat, lon), 3))\n",
    "        for lat, lon in zip(unique_df['lat'], unique_df['lon'])\n",
    "    ]"
   ]
  },
  {
   "cell_type": "markdown",
   "metadata": {},
   "source": [
    "# Data Processing Prep"
   ]
  },
  {
   "cell_type": "code",
   "execution_count": 9,
   "metadata": {},
   "outputs": [],
   "source": [
    "polygon_list = generate_polygons(unique_df)\n",
    "unique_gdf = gpd.GeoDataFrame(unique_df, geometry=polygon_list)\n",
    "unique_gdf = unique_gdf.drop('search_result', axis=1)\n",
    "unique_gdf = unique_gdf.set_crs('EPSG:4326')"
   ]
  },
  {
   "cell_type": "code",
   "execution_count": 10,
   "metadata": {},
   "outputs": [],
   "source": [
    "# checks\n",
    "\n",
    "# len(unique_gdf['SEARCHVAL'].unique())\n",
    "\n",
    "# unique_tmp = unique_gdf.copy()\n",
    "# unique_tmp['SEARCHVAL'] = unique_tmp['SEARCHVAL'].str.lower()\n",
    "# unique_tmp.columns = unique_tmp.columns.str.lower()\n",
    "# mask = unique_tmp['searchval'].str.contains('prive', case=False, na=False)\n",
    "# unique_tmp[mask]"
   ]
  },
  {
   "cell_type": "code",
   "execution_count": 11,
   "metadata": {},
   "outputs": [],
   "source": [
    "amenity_gdf = gpd.GeoDataFrame(\n",
    "    amenity_df,\n",
    "    geometry=gpd.points_from_xy(amenity_df.lon, amenity_df.lat),\n",
    "    crs=\"EPSG:4326\"  # Coordinate Reference System\n",
    ")"
   ]
  },
  {
   "cell_type": "code",
   "execution_count": 12,
   "metadata": {},
   "outputs": [],
   "source": [
    "# Comment\n",
    "# some properties contain a list of postcode instead of a single\n",
    "# 828816, 828817 etc are all prive, punggol"
   ]
  },
  {
   "cell_type": "markdown",
   "metadata": {},
   "source": [
    "## Properties vs Amenity"
   ]
  },
  {
   "cell_type": "code",
   "execution_count": 13,
   "metadata": {},
   "outputs": [],
   "source": [
    "unique_gdf = unique_gdf.to_crs(crs=3857)\n",
    "amenity_gdf = amenity_gdf.to_crs(crs=3857)\n",
    "\n",
    "# create copy of geometry\n",
    "amenity_gdf['amenity_centroid'] = amenity_gdf.geometry\n",
    "\n",
    "\n",
    "# sjoin\n",
    "unique_joined = (\n",
    "    unique_gdf[['SEARCHVAL', 'POSTAL', 'geometry']].drop_duplicates()\n",
    "    .sjoin(amenity_gdf[['type', 'name', 'geometry', 'amenity_centroid']].drop_duplicates())\n",
    "    .drop('index_right', axis=1)\n",
    ")\n",
    "\n",
    "unique_gdf = unique_gdf.to_crs(crs='EPSG:4326')\n",
    "amenity_gdf = amenity_gdf.to_crs(crs='EPSG:4326')\n",
    "\n",
    "# unique_joined = unique_joined.to_crs(crs=3857)\n",
    "unique_joined[\"polygon_centroid\"] = unique_joined[\"geometry\"].centroid\n",
    "# unique_joined = unique_joined.to_crs('EPSG:4326')\n",
    "\n",
    "# add distance calculation\n",
    "unique_joined['distance'] = unique_joined['polygon_centroid'].distance(\n",
    "    unique_joined['amenity_centroid'])"
   ]
  },
  {
   "cell_type": "code",
   "execution_count": 14,
   "metadata": {},
   "outputs": [],
   "source": [
    "unique_joined['SEARCHVAL'] = unique_joined['SEARCHVAL'].str.lower()\n",
    "unique_joined.columns = unique_joined.columns.str.lower()"
   ]
  },
  {
   "cell_type": "code",
   "execution_count": 15,
   "metadata": {},
   "outputs": [],
   "source": [
    "# len(unique_joined['searchval'].unique())\n",
    "# some properties are missing, or they dont have anything nearby...."
   ]
  },
  {
   "cell_type": "markdown",
   "metadata": {},
   "source": [
    "## Properties vs Planning area"
   ]
  },
  {
   "cell_type": "code",
   "execution_count": 16,
   "metadata": {},
   "outputs": [],
   "source": [
    "planning_area_gpd = planning_area_gpd.set_crs(crs='EPSG:4326')\n",
    "planning_area_gpd = planning_area_gpd.rename(\n",
    "    {'pln_area_n': 'planning_area'}, axis=1)\n",
    "\n",
    "# centroid\n",
    "unique_gdf = unique_gdf.to_crs(crs=3857)\n",
    "unique_gdf[\"geometry\"] = unique_gdf[\"geometry\"].centroid\n",
    "unique_gdf = unique_gdf.to_crs(crs='EPSG:4326')\n",
    "\n",
    "unique_gdf = (\n",
    "    unique_gdf\n",
    "    .sjoin(planning_area_gpd, how='left', predicate='within')  # d\n",
    "    .drop('index_right', axis=1)\n",
    ")"
   ]
  },
  {
   "cell_type": "markdown",
   "metadata": {},
   "source": [
    "# Post processing"
   ]
  },
  {
   "cell_type": "code",
   "execution_count": 17,
   "metadata": {},
   "outputs": [],
   "source": [
    "from datetime import datetime\n",
    "\n",
    "# Function to extract commencing year and calculate years left\n",
    "\n",
    "\n",
    "def extract_lease_info(lease_info):\n",
    "    # Extract the number of years and the commencing year\n",
    "    if lease_info == 'freehold' or lease_info == 'Freehold':\n",
    "        return None, 'freehold'\n",
    "    else:\n",
    "        years = int(lease_info.split(' ')[0])\n",
    "        commencing_year = int(lease_info.split(' ')[-1])\n",
    "\n",
    "    # Calculate the remaining years\n",
    "    # current_year = datetime.now().year\n",
    "    # years_left = years - (current_year - commencing_year)\n",
    "\n",
    "    return commencing_year, 'leasehold'"
   ]
  },
  {
   "cell_type": "code",
   "execution_count": 18,
   "metadata": {},
   "outputs": [],
   "source": [
    "def extract_two_digits(string):\n",
    "    \"\"\"Extracts the first two digits from a string of the format \"a to b\".\n",
    "\n",
    "    Args:\n",
    "        string: The input string.\n",
    "\n",
    "    Returns:\n",
    "        The first two digits extracted from the string.\n",
    "    \"\"\"\n",
    "\n",
    "    # Split the string into two parts based on \"to\"\n",
    "    digits_parts = string.split(\" to \")\n",
    "\n",
    "    return (digits_parts[0], digits_parts[1])"
   ]
  },
  {
   "cell_type": "markdown",
   "metadata": {},
   "source": [
    "## Transactions"
   ]
  },
  {
   "cell_type": "code",
   "execution_count": 19,
   "metadata": {},
   "outputs": [],
   "source": [
    "private_df = pd.concat([condo_df, ec_df])\n",
    "private_df.columns = (private_df.columns\n",
    "                      # Replace text in brackets with underscore\n",
    "                      .str.replace(r'\\((.*?)\\)', r'_\\1', regex=True)\n",
    "                      # Remove the last bracket\n",
    "                      .str.replace(r'\\)$', '', regex=True)\n",
    "                      # Remove special characters\n",
    "                      .str.replace(r'[^a-zA-Z0-9_]', '', regex=True)\n",
    "                      .str.replace(r'_$', '', regex=True)\n",
    "                      .str.lower()\n",
    "                      )\n",
    "\n",
    "\n",
    "private_df = private_df.drop(\n",
    "    ['nettprice', 'numberofunits', 'typeofarea', 'typeofsale'], axis=1)\n",
    "\n",
    "private_df[['lease_start_yr', 'hold_type']] = private_df['tenure'].apply(\n",
    "    lambda x: pd.Series(extract_lease_info(x)))\n",
    "\n",
    "\n",
    "# Convert the 'Date' column to datetime\n",
    "private_df['saledate'] = pd.to_datetime(\n",
    "    private_df['saledate'], format='%b-%y').dt.date\n",
    "\n",
    "# private_df['area_sqft'] = private_df['area_sqft'].astype(float)\n",
    "\n",
    "numerical_cast_dict = {'transactedprice': int,\n",
    "                       'unitprice_psf': int, 'unitprice_psm': int, 'area_sqft': float}\n",
    "# 'lease_start_yr':int\n",
    "\n",
    "for key, val in numerical_cast_dict.items():\n",
    "    private_df[key] = private_df[key].str.replace(',', '').astype(val)\n",
    "\n",
    "private_df['propertytype'] = private_df['propertytype'].replace(\n",
    "    'Apartment', 'Condominium')\n",
    "private_df['property_type'] = 'Private'\n",
    "\n",
    "cat_cast_list = ['marketsegment', 'propertytype', 'hold_type']\n",
    "for col in cat_cast_list:\n",
    "    private_df[col] = private_df[col].astype('category')\n",
    "\n",
    "# Replace '-' with a meaningful category, if needed\n",
    "private_df['floorlevel'] = private_df['floorlevel'].replace('-', 'Unknown')\n",
    "# Fitler for the 3 odd records\n",
    "private_df = private_df.loc[private_df['floorlevel'] != 'Unknown']\n",
    "# Convert the 'Range' column to categorical\n",
    "private_df['floorlevel'] = private_df['floorlevel'].astype('category')\n",
    "\n",
    "private_df = private_df.rename(\n",
    "    {'unique_name': 'property_index', 'projectname': 'project_name',\n",
    "     'saledate': 'transaction_date', 'lease_start_yr': 'lease_commence_date',\n",
    "     'floorlevel': 'floor_level', 'streetname': 'street_name',\n",
    "     'propertytype': 'property_sub_type', 'transactedprice': 'resale_price'}, axis=1)\n",
    "\n",
    "str_cast_list = ['project_name', 'street_name', 'property_index']\n",
    "for col in str_cast_list:\n",
    "    private_df[col] = private_df[col].astype('string')\n",
    "\n",
    "private_df['area_sqft'] = pd.to_numeric(\n",
    "    private_df['area_sqft'], errors='coerce')\n",
    "# Fill NaN values in 'area_sqm' with calculated values from 'area_sqft'\n",
    "private_df['area_sqm'] = private_df.apply(\n",
    "    lambda row: row['area_sqft'] / 10.7639 if pd.isna(row['area_sqm']) else row['area_sqm'], axis=1)\n",
    "\n",
    "private_df['lease_commence_date'] = private_df['lease_commence_date'].astype(\n",
    "    'Int64')\n",
    "\n",
    "private_df[['floor_low', 'floor_high']] = [\n",
    "    extract_two_digits(i) for i in private_df['floor_level']]\n",
    "private_df['property_sub_type'] = private_df['property_sub_type'].str.lower()\n",
    "\n",
    "private_df = private_df.drop(\n",
    "    ['tenure', 'marketsegment', 'postaldistrict', 'unitprice_psm'], axis=1)"
   ]
  },
  {
   "cell_type": "code",
   "execution_count": 21,
   "metadata": {},
   "outputs": [],
   "source": [
    "# Column Renaming\n",
    "hdb_df = hdb_df.rename(columns={\n",
    "    'month': 'transaction_date',\n",
    "    'unique_name': 'property_index',\n",
    "    'floor_area_sqm': 'area_sqm',\n",
    "    'storey_range': 'floor_level',\n",
    "    'flat_type': 'property_sub_type',\n",
    "    'block': 'project_name'\n",
    "})\n",
    "\n",
    "# String Lowercase Conversion\n",
    "string_cols = ['floor_level', 'property_sub_type']\n",
    "for col in string_cols:\n",
    "    hdb_df[col] = hdb_df[col].str.lower()\n",
    "\n",
    "# Numerical Data Type Conversion\n",
    "numerical_cols = ['resale_price', 'area_sqm', 'remaining_lease_months', 'lease_commence_date']\n",
    "hdb_df[numerical_cols] = hdb_df[numerical_cols].astype('int')\n",
    "\n",
    "# Derived Columns\n",
    "hdb_df['area_sqft'] = hdb_df['area_sqm'] * sqm_2_sqrt\n",
    "hdb_df['transaction_date'] = pd.to_datetime(hdb_df['transaction_date'], format=\"%Y-%m\").dt.date\n",
    "\n",
    "# Categorical Data Type Conversion\n",
    "categorical_cols = ['property_sub_type', 'flat_model', 'floor_level', 'town']\n",
    "hdb_df[categorical_cols] = hdb_df[categorical_cols].astype('category')\n",
    "\n",
    "# String Data Type Conversion\n",
    "string_cols = ['street_name', 'property_index', 'project_name']\n",
    "hdb_df[string_cols] = hdb_df[string_cols].astype('string')\n",
    "\n",
    "# Add Constant Columns\n",
    "hdb_df['property_type'] = 'HDB'\n",
    "hdb_df['hold_type'] = 'leasehold'\n",
    "\n",
    "# Extract Floor Levels (optional, assumes extract_two_digits function exists)\n",
    "hdb_df[['floor_low', 'floor_high']] = [extract_two_digits(i) for i in hdb_df['floor_level']]\n",
    "\n",
    "# Drop Unnecessary Columns\n",
    "hdb_df = hdb_df.drop(['remaining_lease_months', 'town', 'flat_model'], axis=1)\n",
    "\n",
    "# Calculate Unit Price Per Square Foot\n",
    "hdb_df['unitprice_psf'] = hdb_df['resale_price'] / hdb_df['area_sqft']"
   ]
  },
  {
   "cell_type": "code",
   "execution_count": 22,
   "metadata": {},
   "outputs": [],
   "source": [
    "transaction_sales = pd.concat([hdb_df, private_df])"
   ]
  },
  {
   "cell_type": "markdown",
   "metadata": {},
   "source": [
    "## Property"
   ]
  },
  {
   "cell_type": "code",
   "execution_count": 23,
   "metadata": {},
   "outputs": [],
   "source": [
    "# Create a copy of the unique_gdf\n",
    "property_df = unique_gdf.copy()\n",
    "\n",
    "# Convert column names to lowercase and rename 'nameaddress' to 'property_id'\n",
    "property_df.columns = property_df.columns.str.lower()\n",
    "property_df = property_df.rename({'nameaddress': 'property_id'}, axis=1)\n",
    "\n",
    "# Convert specific columns to string data type\n",
    "str_cast_list = ['property_id', 'blk_no', 'road_name', 'building', 'address']\n",
    "property_df[str_cast_list] = property_df[str_cast_list].astype('string')\n",
    "\n",
    "# Convert 'postal' to numeric, handling errors\n",
    "property_df['postal'] = pd.to_numeric(property_df['postal'], errors='coerce')\n",
    "\n",
    "# Convert 'postal' to Int64 data type\n",
    "property_df['postal'] = property_df['postal'].astype('Int64')\n",
    "\n",
    "# Select specific columns\n",
    "property_df = property_df[['property_id', 'blk_no', 'road_name', 'building', 'address', 'postal', 'planning_area', 'property_type']]"
   ]
  },
  {
   "cell_type": "code",
   "execution_count": 26,
   "metadata": {},
   "outputs": [],
   "source": [
    "import random\n",
    "\n",
    "# Define facilities list\n",
    "facilities = ['bbq', 'gym', 'tennis court', 'sky terrace', 'jacuzzi', 'swimming pool', 'yoga corner', 'pavilion', 'fitness corner']\n",
    "\n",
    "# Filter private properties\n",
    "private_properties = property_df[property_df['property_type'] == 'private'][['property_id']]\n",
    "\n",
    "# Assign random facilities\n",
    "private_properties['facilities'] = [random.sample(facilities, np.random.randint(5,7)) for i in  range(len(private_properties))]\n",
    "\n",
    "# Explode facilities into separate rows\n",
    "private_facilities = private_properties.explode('facilities').reset_index(drop=True)"
   ]
  },
  {
   "cell_type": "markdown",
   "metadata": {},
   "source": [
    "## Nearby"
   ]
  },
  {
   "cell_type": "code",
   "execution_count": 27,
   "metadata": {},
   "outputs": [],
   "source": [
    "nearby_df = unique_joined.copy()\n",
    "nearby_df = nearby_df.rename(\n",
    "    {'searchval': 'property_index', 'distance': 'distance_m'}, axis=1)\n",
    "nearby_df = nearby_df[['property_index', 'type', 'name', 'distance_m']]\n",
    "nearby_df['distance_m'] = nearby_df['distance_m'].astype('int32')"
   ]
  },
  {
   "cell_type": "markdown",
   "metadata": {},
   "source": [
    "# Sales/Listing Data\n",
    "- creation from transacted data"
   ]
  },
  {
   "cell_type": "code",
   "execution_count": 28,
   "metadata": {},
   "outputs": [],
   "source": [
    "frac = 0.8\n",
    "replace = True\n",
    "hdb_sales = (hdb_df.sort_values('transaction_date', ascending=False).groupby(\n",
    "    'property_index').first().sample(frac=frac, replace=replace))\n",
    "\n",
    "private_sales = (private_df.sort_values('transaction_date', ascending=False).groupby(\n",
    "    'property_index').first().sample(frac=frac, replace=replace))"
   ]
  },
  {
   "cell_type": "code",
   "execution_count": 29,
   "metadata": {},
   "outputs": [],
   "source": [
    "listing_sales = pd.concat([hdb_sales, private_sales])\n",
    "\n",
    "# adding room no\n",
    "# sg rooms are typically of 10-30sqm area\n",
    "listing_sales['room_no'] = [\n",
    "    i[0] if 'room' in i else 0 for i in listing_sales['property_sub_type']]\n",
    "listing_sales['room_no'] = [x if x != 0 else np.clip(int(\n",
    "    y/np.random.randint(15, 25)/sqm_2_sqrt), a_min=1, a_max=6) for x, y in zip(listing_sales['room_no'], listing_sales['area_sqft'])]\n",
    "listing_sales['room_no'] = listing_sales['room_no'].astype('int')\n",
    "# adding bathroom\n",
    "listing_sales['bathroom_no'] = [np.clip(int(\n",
    "    x/np.random.randint(35, 45)/sqm_2_sqrt), a_min=1, a_max=4) for x in listing_sales['area_sqft']]\n",
    "listing_sales['bathroom_no'] = listing_sales['bathroom_no'].astype('int')\n",
    "# floor\n",
    "listing_sales['floor'] = [int(np.random.randint(x, y)) for x, y in zip(\n",
    "    listing_sales['floor_low'], listing_sales['floor_high'])]\n",
    "listing_sales['floor'] = listing_sales['floor'].astype('int')\n",
    "\n",
    "listing_sales = listing_sales.drop(\n",
    "    ['floor_low', 'floor_high', 'floor_level'], axis=1)"
   ]
  },
  {
   "cell_type": "code",
   "execution_count": 30,
   "metadata": {},
   "outputs": [
    {
     "data": {
      "text/html": [
       "<div>\n",
       "<style scoped>\n",
       "    .dataframe tbody tr th:only-of-type {\n",
       "        vertical-align: middle;\n",
       "    }\n",
       "\n",
       "    .dataframe tbody tr th {\n",
       "        vertical-align: top;\n",
       "    }\n",
       "\n",
       "    .dataframe thead th {\n",
       "        text-align: right;\n",
       "    }\n",
       "</style>\n",
       "<table border=\"1\" class=\"dataframe\">\n",
       "  <thead>\n",
       "    <tr style=\"text-align: right;\">\n",
       "      <th></th>\n",
       "      <th>transaction_date</th>\n",
       "      <th>property_sub_type</th>\n",
       "      <th>project_name</th>\n",
       "      <th>street_name</th>\n",
       "      <th>area_sqm</th>\n",
       "      <th>lease_commence_date</th>\n",
       "      <th>resale_price</th>\n",
       "      <th>area_sqft</th>\n",
       "      <th>property_type</th>\n",
       "      <th>hold_type</th>\n",
       "      <th>unitprice_psf</th>\n",
       "      <th>room_no</th>\n",
       "      <th>bathroom_no</th>\n",
       "      <th>floor</th>\n",
       "    </tr>\n",
       "    <tr>\n",
       "      <th>property_index</th>\n",
       "      <th></th>\n",
       "      <th></th>\n",
       "      <th></th>\n",
       "      <th></th>\n",
       "      <th></th>\n",
       "      <th></th>\n",
       "      <th></th>\n",
       "      <th></th>\n",
       "      <th></th>\n",
       "      <th></th>\n",
       "      <th></th>\n",
       "      <th></th>\n",
       "      <th></th>\n",
       "      <th></th>\n",
       "    </tr>\n",
       "  </thead>\n",
       "  <tbody>\n",
       "    <tr>\n",
       "      <th>1 TELOK BLANGAH CRES</th>\n",
       "      <td>2024-02-01</td>\n",
       "      <td>3 room</td>\n",
       "      <td>1</td>\n",
       "      <td>TELOK BLANGAH CRES</td>\n",
       "      <td>66.0</td>\n",
       "      <td>1983</td>\n",
       "      <td>405000</td>\n",
       "      <td>710.424</td>\n",
       "      <td>HDB</td>\n",
       "      <td>leasehold</td>\n",
       "      <td>570.082092</td>\n",
       "      <td>3</td>\n",
       "      <td>1</td>\n",
       "      <td>11</td>\n",
       "    </tr>\n",
       "    <tr>\n",
       "      <th>493E TAMPINES ST 43</th>\n",
       "      <td>2024-05-01</td>\n",
       "      <td>5 room</td>\n",
       "      <td>493E</td>\n",
       "      <td>TAMPINES ST 43</td>\n",
       "      <td>123.0</td>\n",
       "      <td>1993</td>\n",
       "      <td>735000</td>\n",
       "      <td>1323.972</td>\n",
       "      <td>HDB</td>\n",
       "      <td>leasehold</td>\n",
       "      <td>555.147692</td>\n",
       "      <td>5</td>\n",
       "      <td>2</td>\n",
       "      <td>11</td>\n",
       "    </tr>\n",
       "    <tr>\n",
       "      <th>638 PASIR RIS DR 1</th>\n",
       "      <td>2023-07-01</td>\n",
       "      <td>5 room</td>\n",
       "      <td>638</td>\n",
       "      <td>PASIR RIS DR 1</td>\n",
       "      <td>123.0</td>\n",
       "      <td>1995</td>\n",
       "      <td>650000</td>\n",
       "      <td>1323.972</td>\n",
       "      <td>HDB</td>\n",
       "      <td>leasehold</td>\n",
       "      <td>490.946938</td>\n",
       "      <td>5</td>\n",
       "      <td>3</td>\n",
       "      <td>8</td>\n",
       "    </tr>\n",
       "    <tr>\n",
       "      <th>557 ANG MO KIO AVE 10</th>\n",
       "      <td>2024-07-01</td>\n",
       "      <td>3 room</td>\n",
       "      <td>557</td>\n",
       "      <td>ANG MO KIO AVE 10</td>\n",
       "      <td>68.0</td>\n",
       "      <td>1980</td>\n",
       "      <td>362000</td>\n",
       "      <td>731.952</td>\n",
       "      <td>HDB</td>\n",
       "      <td>leasehold</td>\n",
       "      <td>494.567950</td>\n",
       "      <td>3</td>\n",
       "      <td>1</td>\n",
       "      <td>4</td>\n",
       "    </tr>\n",
       "    <tr>\n",
       "      <th>986A JURONG WEST ST 93</th>\n",
       "      <td>2023-03-01</td>\n",
       "      <td>4 room</td>\n",
       "      <td>986A</td>\n",
       "      <td>JURONG WEST ST 93</td>\n",
       "      <td>93.0</td>\n",
       "      <td>2008</td>\n",
       "      <td>520000</td>\n",
       "      <td>1001.052</td>\n",
       "      <td>HDB</td>\n",
       "      <td>leasehold</td>\n",
       "      <td>519.453535</td>\n",
       "      <td>4</td>\n",
       "      <td>2</td>\n",
       "      <td>10</td>\n",
       "    </tr>\n",
       "  </tbody>\n",
       "</table>\n",
       "</div>"
      ],
      "text/plain": [
       "                       transaction_date property_sub_type project_name  \\\n",
       "property_index                                                           \n",
       "1 TELOK BLANGAH CRES         2024-02-01            3 room            1   \n",
       "493E TAMPINES ST 43          2024-05-01            5 room         493E   \n",
       "638 PASIR RIS DR 1           2023-07-01            5 room          638   \n",
       "557 ANG MO KIO AVE 10        2024-07-01            3 room          557   \n",
       "986A JURONG WEST ST 93       2023-03-01            4 room         986A   \n",
       "\n",
       "                               street_name  area_sqm  lease_commence_date  \\\n",
       "property_index                                                              \n",
       "1 TELOK BLANGAH CRES    TELOK BLANGAH CRES      66.0                 1983   \n",
       "493E TAMPINES ST 43         TAMPINES ST 43     123.0                 1993   \n",
       "638 PASIR RIS DR 1          PASIR RIS DR 1     123.0                 1995   \n",
       "557 ANG MO KIO AVE 10    ANG MO KIO AVE 10      68.0                 1980   \n",
       "986A JURONG WEST ST 93   JURONG WEST ST 93      93.0                 2008   \n",
       "\n",
       "                        resale_price  area_sqft property_type  hold_type  \\\n",
       "property_index                                                             \n",
       "1 TELOK BLANGAH CRES          405000    710.424           HDB  leasehold   \n",
       "493E TAMPINES ST 43           735000   1323.972           HDB  leasehold   \n",
       "638 PASIR RIS DR 1            650000   1323.972           HDB  leasehold   \n",
       "557 ANG MO KIO AVE 10         362000    731.952           HDB  leasehold   \n",
       "986A JURONG WEST ST 93        520000   1001.052           HDB  leasehold   \n",
       "\n",
       "                        unitprice_psf  room_no  bathroom_no  floor  \n",
       "property_index                                                      \n",
       "1 TELOK BLANGAH CRES       570.082092        3            1     11  \n",
       "493E TAMPINES ST 43        555.147692        5            2     11  \n",
       "638 PASIR RIS DR 1         490.946938        5            3      8  \n",
       "557 ANG MO KIO AVE 10      494.567950        3            1      4  \n",
       "986A JURONG WEST ST 93     519.453535        4            2     10  "
      ]
     },
     "execution_count": 30,
     "metadata": {},
     "output_type": "execute_result"
    }
   ],
   "source": [
    "listing_sales[:5]  # ['floor'].value_counts()"
   ]
  },
  {
   "cell_type": "markdown",
   "metadata": {},
   "source": [
    "# Output"
   ]
  },
  {
   "cell_type": "code",
   "execution_count": 32,
   "metadata": {},
   "outputs": [],
   "source": [
    "property_df.to_parquet('../data/L3/property.parquet')\n",
    "private_facilities.to_parquet('../data/L3/private_property_facilities.parquet')\n",
    "# added town to the property table\n",
    "nearby_df.to_parquet('../data/L3/property_nearby_facilities.parquet')\n",
    "# TODO maybe add walking est/time too\n",
    "transaction_sales.to_parquet('../data/L3/property_transactions_sales.parquet')\n",
    "listing_sales.to_parquet('../data/L3/property_listing_sales.parquet')"
   ]
  }
 ],
 "metadata": {
  "kernelspec": {
   "display_name": "demo",
   "language": "python",
   "name": "python3"
  },
  "language_info": {
   "codemirror_mode": {
    "name": "ipython",
    "version": 3
   },
   "file_extension": ".py",
   "mimetype": "text/x-python",
   "name": "python",
   "nbconvert_exporter": "python",
   "pygments_lexer": "ipython3",
   "version": "3.11.10"
  }
 },
 "nbformat": 4,
 "nbformat_minor": 2
}
