{
 "cells": [
  {
   "cell_type": "code",
   "execution_count": 1,
   "metadata": {},
   "outputs": [
    {
     "name": "stdout",
     "output_type": "stream",
     "text": [
      "89283082803ffff\n"
     ]
    }
   ],
   "source": [
    "import h3\n",
    "\n",
    "# Sample latitude and longitude\n",
    "lat = 37.7749\n",
    "lon = -122.4194\n",
    "\n",
    "# Encode into a hexagon at resolution 9\n",
    "hex_address = h3.geo_to_h3(lat, lon, 9)\n",
    "\n",
    "print(hex_address)\n"
   ]
  },
  {
   "cell_type": "code",
   "execution_count": 4,
   "metadata": {},
   "outputs": [
    {
     "data": {
      "text/plain": [
       "(37.77351509723813, -122.41827103692466)"
      ]
     },
     "execution_count": 4,
     "metadata": {},
     "output_type": "execute_result"
    }
   ],
   "source": [
    "# Decode the hexagon back to latitude and longitude\n",
    "lat_lon = h3.h3_to_geo(hex_address)\n",
    "lat_lon"
   ]
  },
  {
   "cell_type": "markdown",
   "metadata": {},
   "source": [
    "## get a hexagon and its surrounding grids"
   ]
  },
  {
   "cell_type": "code",
   "execution_count": 5,
   "metadata": {},
   "outputs": [
    {
     "name": "stdout",
     "output_type": "stream",
     "text": [
      "Center Hex: 832830fffffffff\n",
      "Surrounding Hexes: {'832836fffffffff', '832814fffffffff', '832989fffffffff', '832832fffffffff', '832831fffffffff', '832822fffffffff', '832806fffffffff', '8329a9fffffffff', '832830fffffffff', '832834fffffffff', '832833fffffffff', '83298dfffffffff', '832835fffffffff', '832815fffffffff', '83291afffffffff', '832804fffffffff', '83291bfffffffff', '832826fffffffff', '8329abfffffffff'}\n"
     ]
    }
   ],
   "source": [
    "# Define the center latitude and longitude\n",
    "lat = 37.7749\n",
    "lon = -122.4194\n",
    "\n",
    "# Define the resolution\n",
    "resolution = 3\n",
    "\n",
    "# Get the hexagon address for the center point\n",
    "center_hex = h3.geo_to_h3(lat, lon, resolution)\n",
    "\n",
    "# Get the surrounding hexagons within 2 rings\n",
    "surrounding_hexes = h3.k_ring(center_hex, 2)\n",
    "\n",
    "print(\"Center Hex:\", center_hex)\n",
    "print(\"Surrounding Hexes:\", surrounding_hexes)"
   ]
  },
  {
   "cell_type": "code",
   "execution_count": null,
   "metadata": {},
   "outputs": [],
   "source": []
  }
 ],
 "metadata": {
  "kernelspec": {
   "display_name": "py311cv",
   "language": "python",
   "name": "python3"
  },
  "language_info": {
   "codemirror_mode": {
    "name": "ipython",
    "version": 3
   },
   "file_extension": ".py",
   "mimetype": "text/x-python",
   "name": "python",
   "nbconvert_exporter": "python",
   "pygments_lexer": "ipython3",
   "version": "3.11.8"
  }
 },
 "nbformat": 4,
 "nbformat_minor": 2
}
