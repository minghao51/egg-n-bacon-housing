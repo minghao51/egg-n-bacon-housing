{
 "cells": [
  {
   "cell_type": "code",
   "execution_count": 2,
   "metadata": {},
   "outputs": [],
   "source": [
    "import pandas as pd\n",
    "import numpy as np\n",
    "import geopandas as gpd\n",
    "from bs4 import BeautifulSoup\n",
    "import h3\n",
    "from shapely.geometry import Polygon"
   ]
  },
  {
   "cell_type": "code",
   "execution_count": 3,
   "metadata": {},
   "outputs": [
    {
     "name": "stdout",
     "output_type": "stream",
     "text": [
      "Upload Successful: private_property_facilities.parquet\n",
      "Upload Successful: property_listing_sales.parquet\n",
      "Upload Successful: property_nearby_facilities.parquet\n",
      "Upload Successful: property_transactions_sales.parquet\n",
      "Upload Successful: property.parquet\n"
     ]
    }
   ],
   "source": [
    "import boto3\n",
    "from botocore.exceptions import NoCredentialsError\n",
    "\n",
    "l3_file_list = ['private_property_facilities.parquet', 'property_listing_sales.parquet',\n",
    "                'property_nearby_facilities.parquet', 'property_transactions_sales.parquet', 'property.parquet']\n",
    "l3_path = '../data/L3/'\n",
    "\n",
    "# Initialize a session using Amazon S3\n",
    "s3 = boto3.client('s3')\n",
    "\n",
    "# Replace with your details\n",
    "bucket_name = 'public-git-data'\n",
    "path_name = 'public/'\n",
    "\n",
    "# Upload files to S3\n",
    "try:\n",
    "    for file_name in l3_file_list:\n",
    "        s3.upload_file(l3_path + file_name, bucket_name, path_name + file_name)\n",
    "        print(f\"Upload Successful: {file_name}\")\n",
    "except FileNotFoundError:\n",
    "    print(\"The file was not found\")\n",
    "except NoCredentialsError:\n",
    "    print(\"Credentials not available\")"
   ]
  },
  {
   "cell_type": "code",
   "execution_count": 5,
   "metadata": {},
   "outputs": [
    {
     "name": "stdout",
     "output_type": "stream",
     "text": [
      "https://public-git-data.s3.amazonaws.com/public/private_property_facilities.parquet\n",
      "https://public-git-data.s3.amazonaws.com/public/property_listing_sales.parquet\n",
      "https://public-git-data.s3.amazonaws.com/public/property_nearby_facilities.parquet\n",
      "https://public-git-data.s3.amazonaws.com/public/property_transactions_sales.parquet\n",
      "https://public-git-data.s3.amazonaws.com/public/property.parquet\n"
     ]
    }
   ],
   "source": [
    "for file_name in l3_file_list:\n",
    "    print(f\"https://{bucket_name}.s3.amazonaws.com/{path_name}{file_name}\")"
   ]
  }
 ],
 "metadata": {
  "kernelspec": {
   "display_name": "demo",
   "language": "python",
   "name": "python3"
  },
  "language_info": {
   "codemirror_mode": {
    "name": "ipython",
    "version": 3
   },
   "file_extension": ".py",
   "mimetype": "text/x-python",
   "name": "python",
   "nbconvert_exporter": "python",
   "pygments_lexer": "ipython3",
   "version": "3.11.10"
  }
 },
 "nbformat": 4,
 "nbformat_minor": 2
}
