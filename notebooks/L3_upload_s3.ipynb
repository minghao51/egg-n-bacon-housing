{
 "cells": [
  {
   "cell_type": "code",
   "execution_count": 2,
   "metadata": {},
   "outputs": [],
   "source": [
    "import pandas as pd\n",
    "import numpy as np\n",
    "import geopandas as gpd\n",
    "from bs4 import BeautifulSoup\n",
    "import h3\n",
    "from shapely.geometry import Polygon"
   ]
  },
  {
   "cell_type": "code",
   "execution_count": 1,
   "metadata": {},
   "outputs": [
    {
     "name": "stdout",
     "output_type": "stream",
     "text": [
      "An error occurred while uploading private_property_facilities.parquet: Failed to upload ../data/L3/private_property_facilities.parquet to public-git-data/public/private_property_facilities.parquet: An error occurred (ExpiredToken) when calling the PutObject operation: The provided token has expired.\n",
      "An error occurred while uploading property_listing_sales.parquet: Failed to upload ../data/L3/property_listing_sales.parquet to public-git-data/public/property_listing_sales.parquet: An error occurred (ExpiredToken) when calling the PutObject operation: The provided token has expired.\n",
      "An error occurred while uploading property_nearby_facilities.parquet: Failed to upload ../data/L3/property_nearby_facilities.parquet to public-git-data/public/property_nearby_facilities.parquet: An error occurred (ExpiredToken) when calling the PutObject operation: The provided token has expired.\n",
      "An error occurred while uploading property_transactions_sales.parquet: Failed to upload ../data/L3/property_transactions_sales.parquet to public-git-data/public/property_transactions_sales.parquet: An error occurred (ExpiredToken) when calling the PutObject operation: The provided token has expired.\n",
      "An error occurred while uploading property.parquet: Failed to upload ../data/L3/property.parquet to public-git-data/public/property.parquet: An error occurred (ExpiredToken) when calling the PutObject operation: The provided token has expired.\n"
     ]
    }
   ],
   "source": [
    "import boto3\n",
    "from botocore.exceptions import NoCredentialsError\n",
    "\n",
    "def upload_files_to_s3(file_list, local_path, bucket_name, s3_path):\n",
    "    \"\"\"\n",
    "    Upload a list of files to an S3 bucket.\n",
    "    \n",
    "    Args:\n",
    "    file_list (list): List of file names to upload.\n",
    "    local_path (str): Local directory path where files are stored.\n",
    "    bucket_name (str): Name of the S3 bucket.\n",
    "    s3_path (str): Path within the S3 bucket to store files.\n",
    "    \n",
    "    Returns:\n",
    "    None\n",
    "    \"\"\"\n",
    "    # Initialize a session using Amazon S3\n",
    "    s3 = boto3.client('s3')\n",
    "    \n",
    "    for file_name in file_list:\n",
    "        local_file_path = f\"{local_path}{file_name}\"\n",
    "        s3_file_path = f\"{s3_path}{file_name}\"\n",
    "        \n",
    "        try:\n",
    "            s3.upload_file(local_file_path, bucket_name, s3_file_path)\n",
    "            print(f\"Upload Successful: {file_name}\")\n",
    "        except FileNotFoundError:\n",
    "            print(f\"File not found: {local_file_path}\")\n",
    "        except NoCredentialsError:\n",
    "            print(\"AWS credentials not available\")\n",
    "            break\n",
    "        except Exception as e:\n",
    "            print(f\"An error occurred while uploading {file_name}: {str(e)}\")\n",
    "\n",
    "# Configuration\n",
    "l3_file_list = [\n",
    "    'private_property_facilities.parquet',\n",
    "    'property_listing_sales.parquet',\n",
    "    'property_nearby_facilities.parquet',\n",
    "    'property_transactions_sales.parquet',\n",
    "    'property.parquet'\n",
    "]\n",
    "l3_path = '../data/L3/'\n",
    "bucket_name = 'public-git-data'\n",
    "s3_path = 'public/'\n",
    "\n",
    "# Upload files\n",
    "upload_files_to_s3(l3_file_list, l3_path, bucket_name, s3_path)"
   ]
  },
  {
   "cell_type": "code",
   "execution_count": 5,
   "metadata": {},
   "outputs": [
    {
     "name": "stdout",
     "output_type": "stream",
     "text": [
      "https://public-git-data.s3.amazonaws.com/public/private_property_facilities.parquet\n",
      "https://public-git-data.s3.amazonaws.com/public/property_listing_sales.parquet\n",
      "https://public-git-data.s3.amazonaws.com/public/property_nearby_facilities.parquet\n",
      "https://public-git-data.s3.amazonaws.com/public/property_transactions_sales.parquet\n",
      "https://public-git-data.s3.amazonaws.com/public/property.parquet\n"
     ]
    }
   ],
   "source": [
    "for file_name in l3_file_list:\n",
    "    print(f\"https://{bucket_name}.s3.amazonaws.com/{path_name}{file_name}\")"
   ]
  },
  {
   "cell_type": "code",
   "execution_count": null,
   "metadata": {},
   "outputs": [],
   "source": [
    "import pandas as pd\n",
    "from supabase import create_client\n",
    "import os\n",
    "from dotenv import load_dotenv\n",
    "\n",
    "# Load environment variables\n",
    "load_dotenv()\n",
    "\n",
    "# Initialize Supabase client\n",
    "supabase_url = os.getenv('SUPABASE_URL')\n",
    "supabase_key = os.getenv('SUPABASE_KEY')\n",
    "supabase = create_client(supabase_url, supabase_key)\n",
    "\n",
    "def upload_to_supabase(df, table_name):\n",
    "    \"\"\"\n",
    "    Upload a DataFrame to Supabase.\n",
    "    \n",
    "    Args:\n",
    "    df (pandas.DataFrame): DataFrame to upload.\n",
    "    table_name (str): Name of the table in Supabase.\n",
    "    \n",
    "    Returns:\n",
    "    None\n",
    "    \"\"\"\n",
    "    try:\n",
    "        # Convert DataFrame to list of dictionaries\n",
    "        data = df.to_dict('records')\n",
    "        \n",
    "        # Upload data to Supabase\n",
    "        response = supabase.table(table_name).insert(data).execute()\n",
    "        \n",
    "        print(f\"Successfully uploaded {len(data)} rows to {table_name}\")\n",
    "    except Exception as e:\n",
    "        print(f\"An error occurred while uploading to {table_name}: {str(e)}\")\n",
    "\n",
    "# Configuration\n",
    "l3_file_list = [\n",
    "    'private_property_facilities.parquet',\n",
    "    'property_listing_sales.parquet',\n",
    "    'property_nearby_facilities.parquet',\n",
    "    'property_transactions_sales.parquet',\n",
    "    'property.parquet'\n",
    "]\n",
    "l3_path = '../data/L3/'\n",
    "\n",
    "# Upload each DataFrame to Supabase\n",
    "for file_name in l3_file_list:\n",
    "    # Read the parquet file\n",
    "    df = pd.read_parquet(f\"{l3_path}{file_name}\")\n",
    "    \n",
    "    # Generate table name (remove file extension and replace underscores with hyphens)\n",
    "    table_name = file_name.replace('.parquet', '').replace('_', '-')\n",
    "    \n",
    "    # Upload to Supabase\n",
    "    upload_to_supabase(df, table_name)\n",
    "\n",
    "print(\"All files have been uploaded to Supabase.\")\n"
   ]
  }
 ],
 "metadata": {
  "kernelspec": {
   "display_name": "demo",
   "language": "python",
   "name": "python3"
  },
  "language_info": {
   "codemirror_mode": {
    "name": "ipython",
    "version": 3
   },
   "file_extension": ".py",
   "mimetype": "text/x-python",
   "name": "python",
   "nbconvert_exporter": "python",
   "pygments_lexer": "ipython3",
   "version": "3.11.8"
  }
 },
 "nbformat": 4,
 "nbformat_minor": 2
}
